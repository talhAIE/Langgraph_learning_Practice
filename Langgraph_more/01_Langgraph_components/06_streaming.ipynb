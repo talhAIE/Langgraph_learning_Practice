{
 "cells": [
  {
   "cell_type": "markdown",
   "id": "f56ee2a8",
   "metadata": {},
   "source": [
    "# Streaming\n",
    "Methods: .stream() and astream()\n",
    "\n",
    "- These methods are sync and async methods for streaming back results.\n",
    "\n",
    "Additional parameters in streaming modes for graph state\n",
    "\n",
    "- values: This streams the full state of the graph after each node is called.\n",
    "- updates: This streams updates to the state of the graph after each node is called"
   ]
  },
  {
   "cell_type": "code",
   "execution_count": 45,
   "id": "4c2a63fa",
   "metadata": {},
   "outputs": [
    {
     "data": {
      "text/plain": [
       "True"
      ]
     },
     "execution_count": 45,
     "metadata": {},
     "output_type": "execute_result"
    }
   ],
   "source": [
    "from langgraph.graph import StateGraph, START,END\n",
    "from typing import TypedDict,Annotated\n",
    "from langgraph.graph.message import add_messages\n",
    "from langchain_core.messages import AnyMessage, HumanMessage\n",
    "from dotenv import load_dotenv\n",
    "load_dotenv()"
   ]
  },
  {
   "cell_type": "code",
   "execution_count": 46,
   "id": "5231e7d1",
   "metadata": {},
   "outputs": [],
   "source": [
    "class state(TypedDict):\n",
    "    messages: Annotated[list[AnyMessage],add_messages]"
   ]
  },
  {
   "cell_type": "code",
   "execution_count": 47,
   "id": "9112ab7e",
   "metadata": {},
   "outputs": [],
   "source": [
    "from langchain_groq import ChatGroq\n",
    "llm=ChatGroq(model='llama-3.1-8b-instant')"
   ]
  },
  {
   "cell_type": "code",
   "execution_count": 48,
   "id": "aa22334d",
   "metadata": {},
   "outputs": [],
   "source": [
    "def gen_message(state:state)->state:\n",
    "    return {'messages':llm.invoke(state['messages'])}"
   ]
  },
  {
   "cell_type": "code",
   "execution_count": 49,
   "id": "a57470d5",
   "metadata": {},
   "outputs": [],
   "source": [
    "from langgraph.checkpoint.memory import MemorySaver\n",
    "# graph\n",
    "graph=StateGraph(state)\n",
    "\n",
    "graph.add_node('chatbot',gen_message)\n",
    "graph.add_edge(START,'chatbot')\n",
    "graph.add_edge('chatbot',END)\n",
    "checkpoint=MemorySaver()\n",
    "workflow=graph.compile(checkpoint)"
   ]
  },
  {
   "cell_type": "code",
   "execution_count": 50,
   "id": "0b8de05f",
   "metadata": {},
   "outputs": [],
   "source": [
    "config={\n",
    "    'configurable':{\n",
    "        'thread_id':'1'\n",
    "    }\n",
    "}"
   ]
  },
  {
   "cell_type": "code",
   "execution_count": 51,
   "id": "6524b0de",
   "metadata": {},
   "outputs": [
    {
     "data": {
      "text/plain": [
       "{'messages': [HumanMessage(content='hi how are you', additional_kwargs={}, response_metadata={}, id='87e7d2fc-8cc3-44d7-a076-5091b90897e6'),\n",
       "  AIMessage(content=\"I'm just a computer program, so I don't have feelings, but I'm functioning properly and ready to help you with any questions or tasks you may have. How can I assist you today?\", additional_kwargs={}, response_metadata={'token_usage': {'completion_tokens': 41, 'prompt_tokens': 39, 'total_tokens': 80, 'completion_time': 0.048587475, 'prompt_time': 0.030003999, 'queue_time': 0.204643392, 'total_time': 0.078591474}, 'model_name': 'llama-3.1-8b-instant', 'system_fingerprint': 'fp_2115512ff6', 'service_tier': 'on_demand', 'finish_reason': 'stop', 'logprobs': None}, id='run--c1b9cf10-8399-4b56-99e6-972bd6a2b542-0', usage_metadata={'input_tokens': 39, 'output_tokens': 41, 'total_tokens': 80})]}"
      ]
     },
     "execution_count": 51,
     "metadata": {},
     "output_type": "execute_result"
    }
   ],
   "source": [
    "workflow.invoke({\n",
    "    'messages':'hi how are you',\n",
    "},\n",
    "config=config)"
   ]
  },
  {
   "cell_type": "code",
   "execution_count": 52,
   "id": "909b7f24",
   "metadata": {},
   "outputs": [],
   "source": [
    "for chunk in workflow.stream({'messages':'my name is talha and i like coding'},config,stream_mode='update'):\n",
    "    \n",
    "    print(chunk)"
   ]
  },
  {
   "cell_type": "code",
   "execution_count": 53,
   "id": "6665ed3a",
   "metadata": {},
   "outputs": [
    {
     "name": "stdout",
     "output_type": "stream",
     "text": [
      "{'messages': [HumanMessage(content='hi how are you', additional_kwargs={}, response_metadata={}, id='87e7d2fc-8cc3-44d7-a076-5091b90897e6'), AIMessage(content=\"I'm just a computer program, so I don't have feelings, but I'm functioning properly and ready to help you with any questions or tasks you may have. How can I assist you today?\", additional_kwargs={}, response_metadata={'token_usage': {'completion_tokens': 41, 'prompt_tokens': 39, 'total_tokens': 80, 'completion_time': 0.048587475, 'prompt_time': 0.030003999, 'queue_time': 0.204643392, 'total_time': 0.078591474}, 'model_name': 'llama-3.1-8b-instant', 'system_fingerprint': 'fp_2115512ff6', 'service_tier': 'on_demand', 'finish_reason': 'stop', 'logprobs': None}, id='run--c1b9cf10-8399-4b56-99e6-972bd6a2b542-0', usage_metadata={'input_tokens': 39, 'output_tokens': 41, 'total_tokens': 80}), HumanMessage(content='my name is talha and i like coding', additional_kwargs={}, response_metadata={}, id='cd026b77-8c8e-4d5f-8f5b-f49ae02d5bf4'), AIMessage(content=\"Nice to meet you, Talha! It's great to hear that you like coding. What type of programming languages or areas of coding are you interested in? Are you a beginner, intermediate, or advanced coder?\\n\\nAre you working on any specific projects or trying to learn a new skill? I'm here to help and provide any guidance or resources you might need.\", additional_kwargs={}, response_metadata={'token_usage': {'completion_tokens': 74, 'prompt_tokens': 98, 'total_tokens': 172, 'completion_time': 0.082019803, 'prompt_time': 0.074467027, 'queue_time': 0.203795076, 'total_time': 0.15648683}, 'model_name': 'llama-3.1-8b-instant', 'system_fingerprint': 'fp_7083106d2c', 'service_tier': 'on_demand', 'finish_reason': 'stop', 'logprobs': None}, id='run--0a61c3ec-6f3a-4e5d-95d0-2e980f79f639-0', usage_metadata={'input_tokens': 98, 'output_tokens': 74, 'total_tokens': 172}), HumanMessage(content='I also like football', additional_kwargs={}, response_metadata={}, id='52295371-4131-434e-b65a-b57980ce04a0')]}\n",
      "{'messages': [HumanMessage(content='hi how are you', additional_kwargs={}, response_metadata={}, id='87e7d2fc-8cc3-44d7-a076-5091b90897e6'), AIMessage(content=\"I'm just a computer program, so I don't have feelings, but I'm functioning properly and ready to help you with any questions or tasks you may have. How can I assist you today?\", additional_kwargs={}, response_metadata={'token_usage': {'completion_tokens': 41, 'prompt_tokens': 39, 'total_tokens': 80, 'completion_time': 0.048587475, 'prompt_time': 0.030003999, 'queue_time': 0.204643392, 'total_time': 0.078591474}, 'model_name': 'llama-3.1-8b-instant', 'system_fingerprint': 'fp_2115512ff6', 'service_tier': 'on_demand', 'finish_reason': 'stop', 'logprobs': None}, id='run--c1b9cf10-8399-4b56-99e6-972bd6a2b542-0', usage_metadata={'input_tokens': 39, 'output_tokens': 41, 'total_tokens': 80}), HumanMessage(content='my name is talha and i like coding', additional_kwargs={}, response_metadata={}, id='cd026b77-8c8e-4d5f-8f5b-f49ae02d5bf4'), AIMessage(content=\"Nice to meet you, Talha! It's great to hear that you like coding. What type of programming languages or areas of coding are you interested in? Are you a beginner, intermediate, or advanced coder?\\n\\nAre you working on any specific projects or trying to learn a new skill? I'm here to help and provide any guidance or resources you might need.\", additional_kwargs={}, response_metadata={'token_usage': {'completion_tokens': 74, 'prompt_tokens': 98, 'total_tokens': 172, 'completion_time': 0.082019803, 'prompt_time': 0.074467027, 'queue_time': 0.203795076, 'total_time': 0.15648683}, 'model_name': 'llama-3.1-8b-instant', 'system_fingerprint': 'fp_7083106d2c', 'service_tier': 'on_demand', 'finish_reason': 'stop', 'logprobs': None}, id='run--0a61c3ec-6f3a-4e5d-95d0-2e980f79f639-0', usage_metadata={'input_tokens': 98, 'output_tokens': 74, 'total_tokens': 172}), HumanMessage(content='I also like football', additional_kwargs={}, response_metadata={}, id='52295371-4131-434e-b65a-b57980ce04a0'), AIMessage(content=\"Football (or soccer, depending on where you're from) is a great sport. There are many great leagues and teams around the world, with exciting matches and tournaments throughout the year.\\n\\nAre you a fan of any particular team or league, such as the English Premier League, La Liga, or the UEFA Champions League? Do you have a favorite player or team that you like to follow?\\n\\nMaybe we can even talk about the intersection of football and technology, such as how data analysis and AI are being used to improve player performance and team strategy.\", additional_kwargs={}, response_metadata={'token_usage': {'completion_tokens': 110, 'prompt_tokens': 185, 'total_tokens': 295, 'completion_time': 0.18428999, 'prompt_time': 0.112137282, 'queue_time': 0.196583873, 'total_time': 0.296427272}, 'model_name': 'llama-3.1-8b-instant', 'system_fingerprint': 'fp_c40956ddc4', 'service_tier': 'on_demand', 'finish_reason': 'stop', 'logprobs': None}, id='run--a575ec79-9676-46d6-99f6-205f0570be80-0', usage_metadata={'input_tokens': 185, 'output_tokens': 110, 'total_tokens': 295})]}\n"
     ]
    }
   ],
   "source": [
    "for chunk in workflow.stream({'messages':\"I also like football\"},config,stream_mode=\"values\"):\n",
    "    print(chunk)"
   ]
  },
  {
   "cell_type": "code",
   "execution_count": 54,
   "id": "e3bdc46f",
   "metadata": {},
   "outputs": [],
   "source": [
    "for chunk in workflow.stream({'messages':'my name is talha and i also like cycling'},config,stream_mode='update'):\n",
    "    \n",
    "    print(chunk)"
   ]
  },
  {
   "cell_type": "markdown",
   "id": "28d2476b",
   "metadata": {},
   "source": [
    "# Streaming The Responses With astream Method\n",
    "\n",
    "Streaming tokens We often want to stream more than graph state.\n",
    "In particular, with chat model calls it is common to stream the tokens as they are generated.\n",
    "\n",
    "We can do this using the astream_events method, which streams back events as they happen inside nodes!\n",
    "\n",
    "Each event is a dict with a few keys:\n",
    "- event: This is the type of event that is being emitted.\n",
    "- name: This is the name of event.\n",
    "- data: This is the data associated with the event.\n",
    "- metadata: Containslanggraph_node, the node emitting the event."
   ]
  },
  {
   "cell_type": "code",
   "execution_count": 55,
   "id": "f4d604b2",
   "metadata": {},
   "outputs": [],
   "source": [
    "config={\n",
    "    'configurable':{\n",
    "        'thread_id':'2'\n",
    "    }\n",
    "}"
   ]
  },
  {
   "cell_type": "code",
   "execution_count": 61,
   "id": "07d36eb4",
   "metadata": {},
   "outputs": [
    {
     "name": "stdout",
     "output_type": "stream",
     "text": [
      "{'event': 'on_chain_start', 'data': {'input': {'messages': ['My Name is talha and your']}}, 'name': 'LangGraph', 'tags': [], 'run_id': 'a6c5677c-dd6d-4c89-9b6c-1ee46fe04921', 'metadata': {'thread_id': '2'}, 'parent_ids': []}\n",
      "{'event': 'on_chain_start', 'data': {'input': {'messages': [HumanMessage(content='My Name is talha and your', additional_kwargs={}, response_metadata={}, id='a6f6d1da-f9d3-4057-89a2-85bcdff97eac')]}}, 'name': 'chatbot', 'tags': ['graph:step:1'], 'run_id': '2aeed44d-d25a-401c-b5e3-92ce989b647d', 'metadata': {'thread_id': '2', 'langgraph_step': 1, 'langgraph_node': 'chatbot', 'langgraph_triggers': ('branch:to:chatbot',), 'langgraph_path': ('__pregel_pull', 'chatbot'), 'langgraph_checkpoint_ns': 'chatbot:94e9b5bb-ac97-803d-7e8c-51c1d8df2f83'}, 'parent_ids': ['a6c5677c-dd6d-4c89-9b6c-1ee46fe04921']}\n",
      "{'event': 'on_chat_model_start', 'data': {'input': {'messages': [[HumanMessage(content='My Name is talha and your', additional_kwargs={}, response_metadata={}, id='a6f6d1da-f9d3-4057-89a2-85bcdff97eac')]]}}, 'name': 'ChatGroq', 'tags': ['seq:step:1'], 'run_id': '8d873ab0-c6a6-47b4-bd28-8724c4ac0a1d', 'metadata': {'thread_id': '2', 'langgraph_step': 1, 'langgraph_node': 'chatbot', 'langgraph_triggers': ('branch:to:chatbot',), 'langgraph_path': ('__pregel_pull', 'chatbot'), 'langgraph_checkpoint_ns': 'chatbot:94e9b5bb-ac97-803d-7e8c-51c1d8df2f83', 'checkpoint_ns': 'chatbot:94e9b5bb-ac97-803d-7e8c-51c1d8df2f83', 'ls_provider': 'groq', 'ls_model_name': 'llama-3.1-8b-instant', 'ls_model_type': 'chat', 'ls_temperature': 0.7}, 'parent_ids': ['a6c5677c-dd6d-4c89-9b6c-1ee46fe04921', '2aeed44d-d25a-401c-b5e3-92ce989b647d']}\n",
      "{'event': 'on_chat_model_stream', 'data': {'chunk': AIMessageChunk(content='', additional_kwargs={}, response_metadata={}, id='run--8d873ab0-c6a6-47b4-bd28-8724c4ac0a1d')}, 'run_id': '8d873ab0-c6a6-47b4-bd28-8724c4ac0a1d', 'name': 'ChatGroq', 'tags': ['seq:step:1'], 'metadata': {'thread_id': '2', 'langgraph_step': 1, 'langgraph_node': 'chatbot', 'langgraph_triggers': ('branch:to:chatbot',), 'langgraph_path': ('__pregel_pull', 'chatbot'), 'langgraph_checkpoint_ns': 'chatbot:94e9b5bb-ac97-803d-7e8c-51c1d8df2f83', 'checkpoint_ns': 'chatbot:94e9b5bb-ac97-803d-7e8c-51c1d8df2f83', 'ls_provider': 'groq', 'ls_model_name': 'llama-3.1-8b-instant', 'ls_model_type': 'chat', 'ls_temperature': 0.7}, 'parent_ids': ['a6c5677c-dd6d-4c89-9b6c-1ee46fe04921', '2aeed44d-d25a-401c-b5e3-92ce989b647d']}\n",
      "{'event': 'on_chat_model_stream', 'data': {'chunk': AIMessageChunk(content='Nice', additional_kwargs={}, response_metadata={}, id='run--8d873ab0-c6a6-47b4-bd28-8724c4ac0a1d')}, 'run_id': '8d873ab0-c6a6-47b4-bd28-8724c4ac0a1d', 'name': 'ChatGroq', 'tags': ['seq:step:1'], 'metadata': {'thread_id': '2', 'langgraph_step': 1, 'langgraph_node': 'chatbot', 'langgraph_triggers': ('branch:to:chatbot',), 'langgraph_path': ('__pregel_pull', 'chatbot'), 'langgraph_checkpoint_ns': 'chatbot:94e9b5bb-ac97-803d-7e8c-51c1d8df2f83', 'checkpoint_ns': 'chatbot:94e9b5bb-ac97-803d-7e8c-51c1d8df2f83', 'ls_provider': 'groq', 'ls_model_name': 'llama-3.1-8b-instant', 'ls_model_type': 'chat', 'ls_temperature': 0.7}, 'parent_ids': ['a6c5677c-dd6d-4c89-9b6c-1ee46fe04921', '2aeed44d-d25a-401c-b5e3-92ce989b647d']}\n",
      "{'event': 'on_chat_model_stream', 'data': {'chunk': AIMessageChunk(content=' to', additional_kwargs={}, response_metadata={}, id='run--8d873ab0-c6a6-47b4-bd28-8724c4ac0a1d')}, 'run_id': '8d873ab0-c6a6-47b4-bd28-8724c4ac0a1d', 'name': 'ChatGroq', 'tags': ['seq:step:1'], 'metadata': {'thread_id': '2', 'langgraph_step': 1, 'langgraph_node': 'chatbot', 'langgraph_triggers': ('branch:to:chatbot',), 'langgraph_path': ('__pregel_pull', 'chatbot'), 'langgraph_checkpoint_ns': 'chatbot:94e9b5bb-ac97-803d-7e8c-51c1d8df2f83', 'checkpoint_ns': 'chatbot:94e9b5bb-ac97-803d-7e8c-51c1d8df2f83', 'ls_provider': 'groq', 'ls_model_name': 'llama-3.1-8b-instant', 'ls_model_type': 'chat', 'ls_temperature': 0.7}, 'parent_ids': ['a6c5677c-dd6d-4c89-9b6c-1ee46fe04921', '2aeed44d-d25a-401c-b5e3-92ce989b647d']}\n",
      "{'event': 'on_chat_model_stream', 'data': {'chunk': AIMessageChunk(content=' meet', additional_kwargs={}, response_metadata={}, id='run--8d873ab0-c6a6-47b4-bd28-8724c4ac0a1d')}, 'run_id': '8d873ab0-c6a6-47b4-bd28-8724c4ac0a1d', 'name': 'ChatGroq', 'tags': ['seq:step:1'], 'metadata': {'thread_id': '2', 'langgraph_step': 1, 'langgraph_node': 'chatbot', 'langgraph_triggers': ('branch:to:chatbot',), 'langgraph_path': ('__pregel_pull', 'chatbot'), 'langgraph_checkpoint_ns': 'chatbot:94e9b5bb-ac97-803d-7e8c-51c1d8df2f83', 'checkpoint_ns': 'chatbot:94e9b5bb-ac97-803d-7e8c-51c1d8df2f83', 'ls_provider': 'groq', 'ls_model_name': 'llama-3.1-8b-instant', 'ls_model_type': 'chat', 'ls_temperature': 0.7}, 'parent_ids': ['a6c5677c-dd6d-4c89-9b6c-1ee46fe04921', '2aeed44d-d25a-401c-b5e3-92ce989b647d']}\n",
      "{'event': 'on_chat_model_stream', 'data': {'chunk': AIMessageChunk(content=' you', additional_kwargs={}, response_metadata={}, id='run--8d873ab0-c6a6-47b4-bd28-8724c4ac0a1d')}, 'run_id': '8d873ab0-c6a6-47b4-bd28-8724c4ac0a1d', 'name': 'ChatGroq', 'tags': ['seq:step:1'], 'metadata': {'thread_id': '2', 'langgraph_step': 1, 'langgraph_node': 'chatbot', 'langgraph_triggers': ('branch:to:chatbot',), 'langgraph_path': ('__pregel_pull', 'chatbot'), 'langgraph_checkpoint_ns': 'chatbot:94e9b5bb-ac97-803d-7e8c-51c1d8df2f83', 'checkpoint_ns': 'chatbot:94e9b5bb-ac97-803d-7e8c-51c1d8df2f83', 'ls_provider': 'groq', 'ls_model_name': 'llama-3.1-8b-instant', 'ls_model_type': 'chat', 'ls_temperature': 0.7}, 'parent_ids': ['a6c5677c-dd6d-4c89-9b6c-1ee46fe04921', '2aeed44d-d25a-401c-b5e3-92ce989b647d']}\n",
      "{'event': 'on_chat_model_stream', 'data': {'chunk': AIMessageChunk(content=',', additional_kwargs={}, response_metadata={}, id='run--8d873ab0-c6a6-47b4-bd28-8724c4ac0a1d')}, 'run_id': '8d873ab0-c6a6-47b4-bd28-8724c4ac0a1d', 'name': 'ChatGroq', 'tags': ['seq:step:1'], 'metadata': {'thread_id': '2', 'langgraph_step': 1, 'langgraph_node': 'chatbot', 'langgraph_triggers': ('branch:to:chatbot',), 'langgraph_path': ('__pregel_pull', 'chatbot'), 'langgraph_checkpoint_ns': 'chatbot:94e9b5bb-ac97-803d-7e8c-51c1d8df2f83', 'checkpoint_ns': 'chatbot:94e9b5bb-ac97-803d-7e8c-51c1d8df2f83', 'ls_provider': 'groq', 'ls_model_name': 'llama-3.1-8b-instant', 'ls_model_type': 'chat', 'ls_temperature': 0.7}, 'parent_ids': ['a6c5677c-dd6d-4c89-9b6c-1ee46fe04921', '2aeed44d-d25a-401c-b5e3-92ce989b647d']}\n",
      "{'event': 'on_chat_model_stream', 'data': {'chunk': AIMessageChunk(content=' Tal', additional_kwargs={}, response_metadata={}, id='run--8d873ab0-c6a6-47b4-bd28-8724c4ac0a1d')}, 'run_id': '8d873ab0-c6a6-47b4-bd28-8724c4ac0a1d', 'name': 'ChatGroq', 'tags': ['seq:step:1'], 'metadata': {'thread_id': '2', 'langgraph_step': 1, 'langgraph_node': 'chatbot', 'langgraph_triggers': ('branch:to:chatbot',), 'langgraph_path': ('__pregel_pull', 'chatbot'), 'langgraph_checkpoint_ns': 'chatbot:94e9b5bb-ac97-803d-7e8c-51c1d8df2f83', 'checkpoint_ns': 'chatbot:94e9b5bb-ac97-803d-7e8c-51c1d8df2f83', 'ls_provider': 'groq', 'ls_model_name': 'llama-3.1-8b-instant', 'ls_model_type': 'chat', 'ls_temperature': 0.7}, 'parent_ids': ['a6c5677c-dd6d-4c89-9b6c-1ee46fe04921', '2aeed44d-d25a-401c-b5e3-92ce989b647d']}\n",
      "{'event': 'on_chat_model_stream', 'data': {'chunk': AIMessageChunk(content='ha', additional_kwargs={}, response_metadata={}, id='run--8d873ab0-c6a6-47b4-bd28-8724c4ac0a1d')}, 'run_id': '8d873ab0-c6a6-47b4-bd28-8724c4ac0a1d', 'name': 'ChatGroq', 'tags': ['seq:step:1'], 'metadata': {'thread_id': '2', 'langgraph_step': 1, 'langgraph_node': 'chatbot', 'langgraph_triggers': ('branch:to:chatbot',), 'langgraph_path': ('__pregel_pull', 'chatbot'), 'langgraph_checkpoint_ns': 'chatbot:94e9b5bb-ac97-803d-7e8c-51c1d8df2f83', 'checkpoint_ns': 'chatbot:94e9b5bb-ac97-803d-7e8c-51c1d8df2f83', 'ls_provider': 'groq', 'ls_model_name': 'llama-3.1-8b-instant', 'ls_model_type': 'chat', 'ls_temperature': 0.7}, 'parent_ids': ['a6c5677c-dd6d-4c89-9b6c-1ee46fe04921', '2aeed44d-d25a-401c-b5e3-92ce989b647d']}\n",
      "{'event': 'on_chat_model_stream', 'data': {'chunk': AIMessageChunk(content='.', additional_kwargs={}, response_metadata={}, id='run--8d873ab0-c6a6-47b4-bd28-8724c4ac0a1d')}, 'run_id': '8d873ab0-c6a6-47b4-bd28-8724c4ac0a1d', 'name': 'ChatGroq', 'tags': ['seq:step:1'], 'metadata': {'thread_id': '2', 'langgraph_step': 1, 'langgraph_node': 'chatbot', 'langgraph_triggers': ('branch:to:chatbot',), 'langgraph_path': ('__pregel_pull', 'chatbot'), 'langgraph_checkpoint_ns': 'chatbot:94e9b5bb-ac97-803d-7e8c-51c1d8df2f83', 'checkpoint_ns': 'chatbot:94e9b5bb-ac97-803d-7e8c-51c1d8df2f83', 'ls_provider': 'groq', 'ls_model_name': 'llama-3.1-8b-instant', 'ls_model_type': 'chat', 'ls_temperature': 0.7}, 'parent_ids': ['a6c5677c-dd6d-4c89-9b6c-1ee46fe04921', '2aeed44d-d25a-401c-b5e3-92ce989b647d']}\n",
      "{'event': 'on_chat_model_stream', 'data': {'chunk': AIMessageChunk(content=' My', additional_kwargs={}, response_metadata={}, id='run--8d873ab0-c6a6-47b4-bd28-8724c4ac0a1d')}, 'run_id': '8d873ab0-c6a6-47b4-bd28-8724c4ac0a1d', 'name': 'ChatGroq', 'tags': ['seq:step:1'], 'metadata': {'thread_id': '2', 'langgraph_step': 1, 'langgraph_node': 'chatbot', 'langgraph_triggers': ('branch:to:chatbot',), 'langgraph_path': ('__pregel_pull', 'chatbot'), 'langgraph_checkpoint_ns': 'chatbot:94e9b5bb-ac97-803d-7e8c-51c1d8df2f83', 'checkpoint_ns': 'chatbot:94e9b5bb-ac97-803d-7e8c-51c1d8df2f83', 'ls_provider': 'groq', 'ls_model_name': 'llama-3.1-8b-instant', 'ls_model_type': 'chat', 'ls_temperature': 0.7}, 'parent_ids': ['a6c5677c-dd6d-4c89-9b6c-1ee46fe04921', '2aeed44d-d25a-401c-b5e3-92ce989b647d']}\n",
      "{'event': 'on_chat_model_stream', 'data': {'chunk': AIMessageChunk(content=' name', additional_kwargs={}, response_metadata={}, id='run--8d873ab0-c6a6-47b4-bd28-8724c4ac0a1d')}, 'run_id': '8d873ab0-c6a6-47b4-bd28-8724c4ac0a1d', 'name': 'ChatGroq', 'tags': ['seq:step:1'], 'metadata': {'thread_id': '2', 'langgraph_step': 1, 'langgraph_node': 'chatbot', 'langgraph_triggers': ('branch:to:chatbot',), 'langgraph_path': ('__pregel_pull', 'chatbot'), 'langgraph_checkpoint_ns': 'chatbot:94e9b5bb-ac97-803d-7e8c-51c1d8df2f83', 'checkpoint_ns': 'chatbot:94e9b5bb-ac97-803d-7e8c-51c1d8df2f83', 'ls_provider': 'groq', 'ls_model_name': 'llama-3.1-8b-instant', 'ls_model_type': 'chat', 'ls_temperature': 0.7}, 'parent_ids': ['a6c5677c-dd6d-4c89-9b6c-1ee46fe04921', '2aeed44d-d25a-401c-b5e3-92ce989b647d']}\n",
      "{'event': 'on_chat_model_stream', 'data': {'chunk': AIMessageChunk(content=' is', additional_kwargs={}, response_metadata={}, id='run--8d873ab0-c6a6-47b4-bd28-8724c4ac0a1d')}, 'run_id': '8d873ab0-c6a6-47b4-bd28-8724c4ac0a1d', 'name': 'ChatGroq', 'tags': ['seq:step:1'], 'metadata': {'thread_id': '2', 'langgraph_step': 1, 'langgraph_node': 'chatbot', 'langgraph_triggers': ('branch:to:chatbot',), 'langgraph_path': ('__pregel_pull', 'chatbot'), 'langgraph_checkpoint_ns': 'chatbot:94e9b5bb-ac97-803d-7e8c-51c1d8df2f83', 'checkpoint_ns': 'chatbot:94e9b5bb-ac97-803d-7e8c-51c1d8df2f83', 'ls_provider': 'groq', 'ls_model_name': 'llama-3.1-8b-instant', 'ls_model_type': 'chat', 'ls_temperature': 0.7}, 'parent_ids': ['a6c5677c-dd6d-4c89-9b6c-1ee46fe04921', '2aeed44d-d25a-401c-b5e3-92ce989b647d']}\n",
      "{'event': 'on_chat_model_stream', 'data': {'chunk': AIMessageChunk(content=' AI', additional_kwargs={}, response_metadata={}, id='run--8d873ab0-c6a6-47b4-bd28-8724c4ac0a1d')}, 'run_id': '8d873ab0-c6a6-47b4-bd28-8724c4ac0a1d', 'name': 'ChatGroq', 'tags': ['seq:step:1'], 'metadata': {'thread_id': '2', 'langgraph_step': 1, 'langgraph_node': 'chatbot', 'langgraph_triggers': ('branch:to:chatbot',), 'langgraph_path': ('__pregel_pull', 'chatbot'), 'langgraph_checkpoint_ns': 'chatbot:94e9b5bb-ac97-803d-7e8c-51c1d8df2f83', 'checkpoint_ns': 'chatbot:94e9b5bb-ac97-803d-7e8c-51c1d8df2f83', 'ls_provider': 'groq', 'ls_model_name': 'llama-3.1-8b-instant', 'ls_model_type': 'chat', 'ls_temperature': 0.7}, 'parent_ids': ['a6c5677c-dd6d-4c89-9b6c-1ee46fe04921', '2aeed44d-d25a-401c-b5e3-92ce989b647d']}\n",
      "{'event': 'on_chat_model_stream', 'data': {'chunk': AIMessageChunk(content=' Assistant', additional_kwargs={}, response_metadata={}, id='run--8d873ab0-c6a6-47b4-bd28-8724c4ac0a1d')}, 'run_id': '8d873ab0-c6a6-47b4-bd28-8724c4ac0a1d', 'name': 'ChatGroq', 'tags': ['seq:step:1'], 'metadata': {'thread_id': '2', 'langgraph_step': 1, 'langgraph_node': 'chatbot', 'langgraph_triggers': ('branch:to:chatbot',), 'langgraph_path': ('__pregel_pull', 'chatbot'), 'langgraph_checkpoint_ns': 'chatbot:94e9b5bb-ac97-803d-7e8c-51c1d8df2f83', 'checkpoint_ns': 'chatbot:94e9b5bb-ac97-803d-7e8c-51c1d8df2f83', 'ls_provider': 'groq', 'ls_model_name': 'llama-3.1-8b-instant', 'ls_model_type': 'chat', 'ls_temperature': 0.7}, 'parent_ids': ['a6c5677c-dd6d-4c89-9b6c-1ee46fe04921', '2aeed44d-d25a-401c-b5e3-92ce989b647d']}\n",
      "{'event': 'on_chat_model_stream', 'data': {'chunk': AIMessageChunk(content=',', additional_kwargs={}, response_metadata={}, id='run--8d873ab0-c6a6-47b4-bd28-8724c4ac0a1d')}, 'run_id': '8d873ab0-c6a6-47b4-bd28-8724c4ac0a1d', 'name': 'ChatGroq', 'tags': ['seq:step:1'], 'metadata': {'thread_id': '2', 'langgraph_step': 1, 'langgraph_node': 'chatbot', 'langgraph_triggers': ('branch:to:chatbot',), 'langgraph_path': ('__pregel_pull', 'chatbot'), 'langgraph_checkpoint_ns': 'chatbot:94e9b5bb-ac97-803d-7e8c-51c1d8df2f83', 'checkpoint_ns': 'chatbot:94e9b5bb-ac97-803d-7e8c-51c1d8df2f83', 'ls_provider': 'groq', 'ls_model_name': 'llama-3.1-8b-instant', 'ls_model_type': 'chat', 'ls_temperature': 0.7}, 'parent_ids': ['a6c5677c-dd6d-4c89-9b6c-1ee46fe04921', '2aeed44d-d25a-401c-b5e3-92ce989b647d']}\n",
      "{'event': 'on_chat_model_stream', 'data': {'chunk': AIMessageChunk(content=' but', additional_kwargs={}, response_metadata={}, id='run--8d873ab0-c6a6-47b4-bd28-8724c4ac0a1d')}, 'run_id': '8d873ab0-c6a6-47b4-bd28-8724c4ac0a1d', 'name': 'ChatGroq', 'tags': ['seq:step:1'], 'metadata': {'thread_id': '2', 'langgraph_step': 1, 'langgraph_node': 'chatbot', 'langgraph_triggers': ('branch:to:chatbot',), 'langgraph_path': ('__pregel_pull', 'chatbot'), 'langgraph_checkpoint_ns': 'chatbot:94e9b5bb-ac97-803d-7e8c-51c1d8df2f83', 'checkpoint_ns': 'chatbot:94e9b5bb-ac97-803d-7e8c-51c1d8df2f83', 'ls_provider': 'groq', 'ls_model_name': 'llama-3.1-8b-instant', 'ls_model_type': 'chat', 'ls_temperature': 0.7}, 'parent_ids': ['a6c5677c-dd6d-4c89-9b6c-1ee46fe04921', '2aeed44d-d25a-401c-b5e3-92ce989b647d']}\n",
      "{'event': 'on_chat_model_stream', 'data': {'chunk': AIMessageChunk(content=' you', additional_kwargs={}, response_metadata={}, id='run--8d873ab0-c6a6-47b4-bd28-8724c4ac0a1d')}, 'run_id': '8d873ab0-c6a6-47b4-bd28-8724c4ac0a1d', 'name': 'ChatGroq', 'tags': ['seq:step:1'], 'metadata': {'thread_id': '2', 'langgraph_step': 1, 'langgraph_node': 'chatbot', 'langgraph_triggers': ('branch:to:chatbot',), 'langgraph_path': ('__pregel_pull', 'chatbot'), 'langgraph_checkpoint_ns': 'chatbot:94e9b5bb-ac97-803d-7e8c-51c1d8df2f83', 'checkpoint_ns': 'chatbot:94e9b5bb-ac97-803d-7e8c-51c1d8df2f83', 'ls_provider': 'groq', 'ls_model_name': 'llama-3.1-8b-instant', 'ls_model_type': 'chat', 'ls_temperature': 0.7}, 'parent_ids': ['a6c5677c-dd6d-4c89-9b6c-1ee46fe04921', '2aeed44d-d25a-401c-b5e3-92ce989b647d']}\n",
      "{'event': 'on_chat_model_stream', 'data': {'chunk': AIMessageChunk(content=' can', additional_kwargs={}, response_metadata={}, id='run--8d873ab0-c6a6-47b4-bd28-8724c4ac0a1d')}, 'run_id': '8d873ab0-c6a6-47b4-bd28-8724c4ac0a1d', 'name': 'ChatGroq', 'tags': ['seq:step:1'], 'metadata': {'thread_id': '2', 'langgraph_step': 1, 'langgraph_node': 'chatbot', 'langgraph_triggers': ('branch:to:chatbot',), 'langgraph_path': ('__pregel_pull', 'chatbot'), 'langgraph_checkpoint_ns': 'chatbot:94e9b5bb-ac97-803d-7e8c-51c1d8df2f83', 'checkpoint_ns': 'chatbot:94e9b5bb-ac97-803d-7e8c-51c1d8df2f83', 'ls_provider': 'groq', 'ls_model_name': 'llama-3.1-8b-instant', 'ls_model_type': 'chat', 'ls_temperature': 0.7}, 'parent_ids': ['a6c5677c-dd6d-4c89-9b6c-1ee46fe04921', '2aeed44d-d25a-401c-b5e3-92ce989b647d']}\n",
      "{'event': 'on_chat_model_stream', 'data': {'chunk': AIMessageChunk(content=' call', additional_kwargs={}, response_metadata={}, id='run--8d873ab0-c6a6-47b4-bd28-8724c4ac0a1d')}, 'run_id': '8d873ab0-c6a6-47b4-bd28-8724c4ac0a1d', 'name': 'ChatGroq', 'tags': ['seq:step:1'], 'metadata': {'thread_id': '2', 'langgraph_step': 1, 'langgraph_node': 'chatbot', 'langgraph_triggers': ('branch:to:chatbot',), 'langgraph_path': ('__pregel_pull', 'chatbot'), 'langgraph_checkpoint_ns': 'chatbot:94e9b5bb-ac97-803d-7e8c-51c1d8df2f83', 'checkpoint_ns': 'chatbot:94e9b5bb-ac97-803d-7e8c-51c1d8df2f83', 'ls_provider': 'groq', 'ls_model_name': 'llama-3.1-8b-instant', 'ls_model_type': 'chat', 'ls_temperature': 0.7}, 'parent_ids': ['a6c5677c-dd6d-4c89-9b6c-1ee46fe04921', '2aeed44d-d25a-401c-b5e3-92ce989b647d']}\n",
      "{'event': 'on_chat_model_stream', 'data': {'chunk': AIMessageChunk(content=' me', additional_kwargs={}, response_metadata={}, id='run--8d873ab0-c6a6-47b4-bd28-8724c4ac0a1d')}, 'run_id': '8d873ab0-c6a6-47b4-bd28-8724c4ac0a1d', 'name': 'ChatGroq', 'tags': ['seq:step:1'], 'metadata': {'thread_id': '2', 'langgraph_step': 1, 'langgraph_node': 'chatbot', 'langgraph_triggers': ('branch:to:chatbot',), 'langgraph_path': ('__pregel_pull', 'chatbot'), 'langgraph_checkpoint_ns': 'chatbot:94e9b5bb-ac97-803d-7e8c-51c1d8df2f83', 'checkpoint_ns': 'chatbot:94e9b5bb-ac97-803d-7e8c-51c1d8df2f83', 'ls_provider': 'groq', 'ls_model_name': 'llama-3.1-8b-instant', 'ls_model_type': 'chat', 'ls_temperature': 0.7}, 'parent_ids': ['a6c5677c-dd6d-4c89-9b6c-1ee46fe04921', '2aeed44d-d25a-401c-b5e3-92ce989b647d']}\n",
      "{'event': 'on_chat_model_stream', 'data': {'chunk': AIMessageChunk(content=' Assistant', additional_kwargs={}, response_metadata={}, id='run--8d873ab0-c6a6-47b4-bd28-8724c4ac0a1d')}, 'run_id': '8d873ab0-c6a6-47b4-bd28-8724c4ac0a1d', 'name': 'ChatGroq', 'tags': ['seq:step:1'], 'metadata': {'thread_id': '2', 'langgraph_step': 1, 'langgraph_node': 'chatbot', 'langgraph_triggers': ('branch:to:chatbot',), 'langgraph_path': ('__pregel_pull', 'chatbot'), 'langgraph_checkpoint_ns': 'chatbot:94e9b5bb-ac97-803d-7e8c-51c1d8df2f83', 'checkpoint_ns': 'chatbot:94e9b5bb-ac97-803d-7e8c-51c1d8df2f83', 'ls_provider': 'groq', 'ls_model_name': 'llama-3.1-8b-instant', 'ls_model_type': 'chat', 'ls_temperature': 0.7}, 'parent_ids': ['a6c5677c-dd6d-4c89-9b6c-1ee46fe04921', '2aeed44d-d25a-401c-b5e3-92ce989b647d']}\n",
      "{'event': 'on_chat_model_stream', 'data': {'chunk': AIMessageChunk(content=' or', additional_kwargs={}, response_metadata={}, id='run--8d873ab0-c6a6-47b4-bd28-8724c4ac0a1d')}, 'run_id': '8d873ab0-c6a6-47b4-bd28-8724c4ac0a1d', 'name': 'ChatGroq', 'tags': ['seq:step:1'], 'metadata': {'thread_id': '2', 'langgraph_step': 1, 'langgraph_node': 'chatbot', 'langgraph_triggers': ('branch:to:chatbot',), 'langgraph_path': ('__pregel_pull', 'chatbot'), 'langgraph_checkpoint_ns': 'chatbot:94e9b5bb-ac97-803d-7e8c-51c1d8df2f83', 'checkpoint_ns': 'chatbot:94e9b5bb-ac97-803d-7e8c-51c1d8df2f83', 'ls_provider': 'groq', 'ls_model_name': 'llama-3.1-8b-instant', 'ls_model_type': 'chat', 'ls_temperature': 0.7}, 'parent_ids': ['a6c5677c-dd6d-4c89-9b6c-1ee46fe04921', '2aeed44d-d25a-401c-b5e3-92ce989b647d']}\n",
      "{'event': 'on_chat_model_stream', 'data': {'chunk': AIMessageChunk(content=' just', additional_kwargs={}, response_metadata={}, id='run--8d873ab0-c6a6-47b4-bd28-8724c4ac0a1d')}, 'run_id': '8d873ab0-c6a6-47b4-bd28-8724c4ac0a1d', 'name': 'ChatGroq', 'tags': ['seq:step:1'], 'metadata': {'thread_id': '2', 'langgraph_step': 1, 'langgraph_node': 'chatbot', 'langgraph_triggers': ('branch:to:chatbot',), 'langgraph_path': ('__pregel_pull', 'chatbot'), 'langgraph_checkpoint_ns': 'chatbot:94e9b5bb-ac97-803d-7e8c-51c1d8df2f83', 'checkpoint_ns': 'chatbot:94e9b5bb-ac97-803d-7e8c-51c1d8df2f83', 'ls_provider': 'groq', 'ls_model_name': 'llama-3.1-8b-instant', 'ls_model_type': 'chat', 'ls_temperature': 0.7}, 'parent_ids': ['a6c5677c-dd6d-4c89-9b6c-1ee46fe04921', '2aeed44d-d25a-401c-b5e3-92ce989b647d']}\n",
      "{'event': 'on_chat_model_stream', 'data': {'chunk': AIMessageChunk(content=' \"', additional_kwargs={}, response_metadata={}, id='run--8d873ab0-c6a6-47b4-bd28-8724c4ac0a1d')}, 'run_id': '8d873ab0-c6a6-47b4-bd28-8724c4ac0a1d', 'name': 'ChatGroq', 'tags': ['seq:step:1'], 'metadata': {'thread_id': '2', 'langgraph_step': 1, 'langgraph_node': 'chatbot', 'langgraph_triggers': ('branch:to:chatbot',), 'langgraph_path': ('__pregel_pull', 'chatbot'), 'langgraph_checkpoint_ns': 'chatbot:94e9b5bb-ac97-803d-7e8c-51c1d8df2f83', 'checkpoint_ns': 'chatbot:94e9b5bb-ac97-803d-7e8c-51c1d8df2f83', 'ls_provider': 'groq', 'ls_model_name': 'llama-3.1-8b-instant', 'ls_model_type': 'chat', 'ls_temperature': 0.7}, 'parent_ids': ['a6c5677c-dd6d-4c89-9b6c-1ee46fe04921', '2aeed44d-d25a-401c-b5e3-92ce989b647d']}\n",
      "{'event': 'on_chat_model_stream', 'data': {'chunk': AIMessageChunk(content='AI', additional_kwargs={}, response_metadata={}, id='run--8d873ab0-c6a6-47b4-bd28-8724c4ac0a1d')}, 'run_id': '8d873ab0-c6a6-47b4-bd28-8724c4ac0a1d', 'name': 'ChatGroq', 'tags': ['seq:step:1'], 'metadata': {'thread_id': '2', 'langgraph_step': 1, 'langgraph_node': 'chatbot', 'langgraph_triggers': ('branch:to:chatbot',), 'langgraph_path': ('__pregel_pull', 'chatbot'), 'langgraph_checkpoint_ns': 'chatbot:94e9b5bb-ac97-803d-7e8c-51c1d8df2f83', 'checkpoint_ns': 'chatbot:94e9b5bb-ac97-803d-7e8c-51c1d8df2f83', 'ls_provider': 'groq', 'ls_model_name': 'llama-3.1-8b-instant', 'ls_model_type': 'chat', 'ls_temperature': 0.7}, 'parent_ids': ['a6c5677c-dd6d-4c89-9b6c-1ee46fe04921', '2aeed44d-d25a-401c-b5e3-92ce989b647d']}\n",
      "{'event': 'on_chat_model_stream', 'data': {'chunk': AIMessageChunk(content='\"', additional_kwargs={}, response_metadata={}, id='run--8d873ab0-c6a6-47b4-bd28-8724c4ac0a1d')}, 'run_id': '8d873ab0-c6a6-47b4-bd28-8724c4ac0a1d', 'name': 'ChatGroq', 'tags': ['seq:step:1'], 'metadata': {'thread_id': '2', 'langgraph_step': 1, 'langgraph_node': 'chatbot', 'langgraph_triggers': ('branch:to:chatbot',), 'langgraph_path': ('__pregel_pull', 'chatbot'), 'langgraph_checkpoint_ns': 'chatbot:94e9b5bb-ac97-803d-7e8c-51c1d8df2f83', 'checkpoint_ns': 'chatbot:94e9b5bb-ac97-803d-7e8c-51c1d8df2f83', 'ls_provider': 'groq', 'ls_model_name': 'llama-3.1-8b-instant', 'ls_model_type': 'chat', 'ls_temperature': 0.7}, 'parent_ids': ['a6c5677c-dd6d-4c89-9b6c-1ee46fe04921', '2aeed44d-d25a-401c-b5e3-92ce989b647d']}\n",
      "{'event': 'on_chat_model_stream', 'data': {'chunk': AIMessageChunk(content=' for', additional_kwargs={}, response_metadata={}, id='run--8d873ab0-c6a6-47b4-bd28-8724c4ac0a1d')}, 'run_id': '8d873ab0-c6a6-47b4-bd28-8724c4ac0a1d', 'name': 'ChatGroq', 'tags': ['seq:step:1'], 'metadata': {'thread_id': '2', 'langgraph_step': 1, 'langgraph_node': 'chatbot', 'langgraph_triggers': ('branch:to:chatbot',), 'langgraph_path': ('__pregel_pull', 'chatbot'), 'langgraph_checkpoint_ns': 'chatbot:94e9b5bb-ac97-803d-7e8c-51c1d8df2f83', 'checkpoint_ns': 'chatbot:94e9b5bb-ac97-803d-7e8c-51c1d8df2f83', 'ls_provider': 'groq', 'ls_model_name': 'llama-3.1-8b-instant', 'ls_model_type': 'chat', 'ls_temperature': 0.7}, 'parent_ids': ['a6c5677c-dd6d-4c89-9b6c-1ee46fe04921', '2aeed44d-d25a-401c-b5e3-92ce989b647d']}\n",
      "{'event': 'on_chat_model_stream', 'data': {'chunk': AIMessageChunk(content=' short', additional_kwargs={}, response_metadata={}, id='run--8d873ab0-c6a6-47b4-bd28-8724c4ac0a1d')}, 'run_id': '8d873ab0-c6a6-47b4-bd28-8724c4ac0a1d', 'name': 'ChatGroq', 'tags': ['seq:step:1'], 'metadata': {'thread_id': '2', 'langgraph_step': 1, 'langgraph_node': 'chatbot', 'langgraph_triggers': ('branch:to:chatbot',), 'langgraph_path': ('__pregel_pull', 'chatbot'), 'langgraph_checkpoint_ns': 'chatbot:94e9b5bb-ac97-803d-7e8c-51c1d8df2f83', 'checkpoint_ns': 'chatbot:94e9b5bb-ac97-803d-7e8c-51c1d8df2f83', 'ls_provider': 'groq', 'ls_model_name': 'llama-3.1-8b-instant', 'ls_model_type': 'chat', 'ls_temperature': 0.7}, 'parent_ids': ['a6c5677c-dd6d-4c89-9b6c-1ee46fe04921', '2aeed44d-d25a-401c-b5e3-92ce989b647d']}\n",
      "{'event': 'on_chat_model_stream', 'data': {'chunk': AIMessageChunk(content='.', additional_kwargs={}, response_metadata={}, id='run--8d873ab0-c6a6-47b4-bd28-8724c4ac0a1d')}, 'run_id': '8d873ab0-c6a6-47b4-bd28-8724c4ac0a1d', 'name': 'ChatGroq', 'tags': ['seq:step:1'], 'metadata': {'thread_id': '2', 'langgraph_step': 1, 'langgraph_node': 'chatbot', 'langgraph_triggers': ('branch:to:chatbot',), 'langgraph_path': ('__pregel_pull', 'chatbot'), 'langgraph_checkpoint_ns': 'chatbot:94e9b5bb-ac97-803d-7e8c-51c1d8df2f83', 'checkpoint_ns': 'chatbot:94e9b5bb-ac97-803d-7e8c-51c1d8df2f83', 'ls_provider': 'groq', 'ls_model_name': 'llama-3.1-8b-instant', 'ls_model_type': 'chat', 'ls_temperature': 0.7}, 'parent_ids': ['a6c5677c-dd6d-4c89-9b6c-1ee46fe04921', '2aeed44d-d25a-401c-b5e3-92ce989b647d']}\n",
      "{'event': 'on_chat_model_stream', 'data': {'chunk': AIMessageChunk(content=' I', additional_kwargs={}, response_metadata={}, id='run--8d873ab0-c6a6-47b4-bd28-8724c4ac0a1d')}, 'run_id': '8d873ab0-c6a6-47b4-bd28-8724c4ac0a1d', 'name': 'ChatGroq', 'tags': ['seq:step:1'], 'metadata': {'thread_id': '2', 'langgraph_step': 1, 'langgraph_node': 'chatbot', 'langgraph_triggers': ('branch:to:chatbot',), 'langgraph_path': ('__pregel_pull', 'chatbot'), 'langgraph_checkpoint_ns': 'chatbot:94e9b5bb-ac97-803d-7e8c-51c1d8df2f83', 'checkpoint_ns': 'chatbot:94e9b5bb-ac97-803d-7e8c-51c1d8df2f83', 'ls_provider': 'groq', 'ls_model_name': 'llama-3.1-8b-instant', 'ls_model_type': 'chat', 'ls_temperature': 0.7}, 'parent_ids': ['a6c5677c-dd6d-4c89-9b6c-1ee46fe04921', '2aeed44d-d25a-401c-b5e3-92ce989b647d']}\n",
      "{'event': 'on_chat_model_stream', 'data': {'chunk': AIMessageChunk(content=\"'m\", additional_kwargs={}, response_metadata={}, id='run--8d873ab0-c6a6-47b4-bd28-8724c4ac0a1d')}, 'run_id': '8d873ab0-c6a6-47b4-bd28-8724c4ac0a1d', 'name': 'ChatGroq', 'tags': ['seq:step:1'], 'metadata': {'thread_id': '2', 'langgraph_step': 1, 'langgraph_node': 'chatbot', 'langgraph_triggers': ('branch:to:chatbot',), 'langgraph_path': ('__pregel_pull', 'chatbot'), 'langgraph_checkpoint_ns': 'chatbot:94e9b5bb-ac97-803d-7e8c-51c1d8df2f83', 'checkpoint_ns': 'chatbot:94e9b5bb-ac97-803d-7e8c-51c1d8df2f83', 'ls_provider': 'groq', 'ls_model_name': 'llama-3.1-8b-instant', 'ls_model_type': 'chat', 'ls_temperature': 0.7}, 'parent_ids': ['a6c5677c-dd6d-4c89-9b6c-1ee46fe04921', '2aeed44d-d25a-401c-b5e3-92ce989b647d']}\n",
      "{'event': 'on_chat_model_stream', 'data': {'chunk': AIMessageChunk(content=' here', additional_kwargs={}, response_metadata={}, id='run--8d873ab0-c6a6-47b4-bd28-8724c4ac0a1d')}, 'run_id': '8d873ab0-c6a6-47b4-bd28-8724c4ac0a1d', 'name': 'ChatGroq', 'tags': ['seq:step:1'], 'metadata': {'thread_id': '2', 'langgraph_step': 1, 'langgraph_node': 'chatbot', 'langgraph_triggers': ('branch:to:chatbot',), 'langgraph_path': ('__pregel_pull', 'chatbot'), 'langgraph_checkpoint_ns': 'chatbot:94e9b5bb-ac97-803d-7e8c-51c1d8df2f83', 'checkpoint_ns': 'chatbot:94e9b5bb-ac97-803d-7e8c-51c1d8df2f83', 'ls_provider': 'groq', 'ls_model_name': 'llama-3.1-8b-instant', 'ls_model_type': 'chat', 'ls_temperature': 0.7}, 'parent_ids': ['a6c5677c-dd6d-4c89-9b6c-1ee46fe04921', '2aeed44d-d25a-401c-b5e3-92ce989b647d']}\n",
      "{'event': 'on_chat_model_stream', 'data': {'chunk': AIMessageChunk(content=' to', additional_kwargs={}, response_metadata={}, id='run--8d873ab0-c6a6-47b4-bd28-8724c4ac0a1d')}, 'run_id': '8d873ab0-c6a6-47b4-bd28-8724c4ac0a1d', 'name': 'ChatGroq', 'tags': ['seq:step:1'], 'metadata': {'thread_id': '2', 'langgraph_step': 1, 'langgraph_node': 'chatbot', 'langgraph_triggers': ('branch:to:chatbot',), 'langgraph_path': ('__pregel_pull', 'chatbot'), 'langgraph_checkpoint_ns': 'chatbot:94e9b5bb-ac97-803d-7e8c-51c1d8df2f83', 'checkpoint_ns': 'chatbot:94e9b5bb-ac97-803d-7e8c-51c1d8df2f83', 'ls_provider': 'groq', 'ls_model_name': 'llama-3.1-8b-instant', 'ls_model_type': 'chat', 'ls_temperature': 0.7}, 'parent_ids': ['a6c5677c-dd6d-4c89-9b6c-1ee46fe04921', '2aeed44d-d25a-401c-b5e3-92ce989b647d']}\n",
      "{'event': 'on_chat_model_stream', 'data': {'chunk': AIMessageChunk(content=' help', additional_kwargs={}, response_metadata={}, id='run--8d873ab0-c6a6-47b4-bd28-8724c4ac0a1d')}, 'run_id': '8d873ab0-c6a6-47b4-bd28-8724c4ac0a1d', 'name': 'ChatGroq', 'tags': ['seq:step:1'], 'metadata': {'thread_id': '2', 'langgraph_step': 1, 'langgraph_node': 'chatbot', 'langgraph_triggers': ('branch:to:chatbot',), 'langgraph_path': ('__pregel_pull', 'chatbot'), 'langgraph_checkpoint_ns': 'chatbot:94e9b5bb-ac97-803d-7e8c-51c1d8df2f83', 'checkpoint_ns': 'chatbot:94e9b5bb-ac97-803d-7e8c-51c1d8df2f83', 'ls_provider': 'groq', 'ls_model_name': 'llama-3.1-8b-instant', 'ls_model_type': 'chat', 'ls_temperature': 0.7}, 'parent_ids': ['a6c5677c-dd6d-4c89-9b6c-1ee46fe04921', '2aeed44d-d25a-401c-b5e3-92ce989b647d']}\n",
      "{'event': 'on_chat_model_stream', 'data': {'chunk': AIMessageChunk(content=' answer', additional_kwargs={}, response_metadata={}, id='run--8d873ab0-c6a6-47b4-bd28-8724c4ac0a1d')}, 'run_id': '8d873ab0-c6a6-47b4-bd28-8724c4ac0a1d', 'name': 'ChatGroq', 'tags': ['seq:step:1'], 'metadata': {'thread_id': '2', 'langgraph_step': 1, 'langgraph_node': 'chatbot', 'langgraph_triggers': ('branch:to:chatbot',), 'langgraph_path': ('__pregel_pull', 'chatbot'), 'langgraph_checkpoint_ns': 'chatbot:94e9b5bb-ac97-803d-7e8c-51c1d8df2f83', 'checkpoint_ns': 'chatbot:94e9b5bb-ac97-803d-7e8c-51c1d8df2f83', 'ls_provider': 'groq', 'ls_model_name': 'llama-3.1-8b-instant', 'ls_model_type': 'chat', 'ls_temperature': 0.7}, 'parent_ids': ['a6c5677c-dd6d-4c89-9b6c-1ee46fe04921', '2aeed44d-d25a-401c-b5e3-92ce989b647d']}\n",
      "{'event': 'on_chat_model_stream', 'data': {'chunk': AIMessageChunk(content=' any', additional_kwargs={}, response_metadata={}, id='run--8d873ab0-c6a6-47b4-bd28-8724c4ac0a1d')}, 'run_id': '8d873ab0-c6a6-47b4-bd28-8724c4ac0a1d', 'name': 'ChatGroq', 'tags': ['seq:step:1'], 'metadata': {'thread_id': '2', 'langgraph_step': 1, 'langgraph_node': 'chatbot', 'langgraph_triggers': ('branch:to:chatbot',), 'langgraph_path': ('__pregel_pull', 'chatbot'), 'langgraph_checkpoint_ns': 'chatbot:94e9b5bb-ac97-803d-7e8c-51c1d8df2f83', 'checkpoint_ns': 'chatbot:94e9b5bb-ac97-803d-7e8c-51c1d8df2f83', 'ls_provider': 'groq', 'ls_model_name': 'llama-3.1-8b-instant', 'ls_model_type': 'chat', 'ls_temperature': 0.7}, 'parent_ids': ['a6c5677c-dd6d-4c89-9b6c-1ee46fe04921', '2aeed44d-d25a-401c-b5e3-92ce989b647d']}\n",
      "{'event': 'on_chat_model_stream', 'data': {'chunk': AIMessageChunk(content=' questions', additional_kwargs={}, response_metadata={}, id='run--8d873ab0-c6a6-47b4-bd28-8724c4ac0a1d')}, 'run_id': '8d873ab0-c6a6-47b4-bd28-8724c4ac0a1d', 'name': 'ChatGroq', 'tags': ['seq:step:1'], 'metadata': {'thread_id': '2', 'langgraph_step': 1, 'langgraph_node': 'chatbot', 'langgraph_triggers': ('branch:to:chatbot',), 'langgraph_path': ('__pregel_pull', 'chatbot'), 'langgraph_checkpoint_ns': 'chatbot:94e9b5bb-ac97-803d-7e8c-51c1d8df2f83', 'checkpoint_ns': 'chatbot:94e9b5bb-ac97-803d-7e8c-51c1d8df2f83', 'ls_provider': 'groq', 'ls_model_name': 'llama-3.1-8b-instant', 'ls_model_type': 'chat', 'ls_temperature': 0.7}, 'parent_ids': ['a6c5677c-dd6d-4c89-9b6c-1ee46fe04921', '2aeed44d-d25a-401c-b5e3-92ce989b647d']}\n",
      "{'event': 'on_chat_model_stream', 'data': {'chunk': AIMessageChunk(content=',', additional_kwargs={}, response_metadata={}, id='run--8d873ab0-c6a6-47b4-bd28-8724c4ac0a1d')}, 'run_id': '8d873ab0-c6a6-47b4-bd28-8724c4ac0a1d', 'name': 'ChatGroq', 'tags': ['seq:step:1'], 'metadata': {'thread_id': '2', 'langgraph_step': 1, 'langgraph_node': 'chatbot', 'langgraph_triggers': ('branch:to:chatbot',), 'langgraph_path': ('__pregel_pull', 'chatbot'), 'langgraph_checkpoint_ns': 'chatbot:94e9b5bb-ac97-803d-7e8c-51c1d8df2f83', 'checkpoint_ns': 'chatbot:94e9b5bb-ac97-803d-7e8c-51c1d8df2f83', 'ls_provider': 'groq', 'ls_model_name': 'llama-3.1-8b-instant', 'ls_model_type': 'chat', 'ls_temperature': 0.7}, 'parent_ids': ['a6c5677c-dd6d-4c89-9b6c-1ee46fe04921', '2aeed44d-d25a-401c-b5e3-92ce989b647d']}\n",
      "{'event': 'on_chat_model_stream', 'data': {'chunk': AIMessageChunk(content=' provide', additional_kwargs={}, response_metadata={}, id='run--8d873ab0-c6a6-47b4-bd28-8724c4ac0a1d')}, 'run_id': '8d873ab0-c6a6-47b4-bd28-8724c4ac0a1d', 'name': 'ChatGroq', 'tags': ['seq:step:1'], 'metadata': {'thread_id': '2', 'langgraph_step': 1, 'langgraph_node': 'chatbot', 'langgraph_triggers': ('branch:to:chatbot',), 'langgraph_path': ('__pregel_pull', 'chatbot'), 'langgraph_checkpoint_ns': 'chatbot:94e9b5bb-ac97-803d-7e8c-51c1d8df2f83', 'checkpoint_ns': 'chatbot:94e9b5bb-ac97-803d-7e8c-51c1d8df2f83', 'ls_provider': 'groq', 'ls_model_name': 'llama-3.1-8b-instant', 'ls_model_type': 'chat', 'ls_temperature': 0.7}, 'parent_ids': ['a6c5677c-dd6d-4c89-9b6c-1ee46fe04921', '2aeed44d-d25a-401c-b5e3-92ce989b647d']}\n",
      "{'event': 'on_chat_model_stream', 'data': {'chunk': AIMessageChunk(content=' information', additional_kwargs={}, response_metadata={}, id='run--8d873ab0-c6a6-47b4-bd28-8724c4ac0a1d')}, 'run_id': '8d873ab0-c6a6-47b4-bd28-8724c4ac0a1d', 'name': 'ChatGroq', 'tags': ['seq:step:1'], 'metadata': {'thread_id': '2', 'langgraph_step': 1, 'langgraph_node': 'chatbot', 'langgraph_triggers': ('branch:to:chatbot',), 'langgraph_path': ('__pregel_pull', 'chatbot'), 'langgraph_checkpoint_ns': 'chatbot:94e9b5bb-ac97-803d-7e8c-51c1d8df2f83', 'checkpoint_ns': 'chatbot:94e9b5bb-ac97-803d-7e8c-51c1d8df2f83', 'ls_provider': 'groq', 'ls_model_name': 'llama-3.1-8b-instant', 'ls_model_type': 'chat', 'ls_temperature': 0.7}, 'parent_ids': ['a6c5677c-dd6d-4c89-9b6c-1ee46fe04921', '2aeed44d-d25a-401c-b5e3-92ce989b647d']}\n",
      "{'event': 'on_chat_model_stream', 'data': {'chunk': AIMessageChunk(content=',', additional_kwargs={}, response_metadata={}, id='run--8d873ab0-c6a6-47b4-bd28-8724c4ac0a1d')}, 'run_id': '8d873ab0-c6a6-47b4-bd28-8724c4ac0a1d', 'name': 'ChatGroq', 'tags': ['seq:step:1'], 'metadata': {'thread_id': '2', 'langgraph_step': 1, 'langgraph_node': 'chatbot', 'langgraph_triggers': ('branch:to:chatbot',), 'langgraph_path': ('__pregel_pull', 'chatbot'), 'langgraph_checkpoint_ns': 'chatbot:94e9b5bb-ac97-803d-7e8c-51c1d8df2f83', 'checkpoint_ns': 'chatbot:94e9b5bb-ac97-803d-7e8c-51c1d8df2f83', 'ls_provider': 'groq', 'ls_model_name': 'llama-3.1-8b-instant', 'ls_model_type': 'chat', 'ls_temperature': 0.7}, 'parent_ids': ['a6c5677c-dd6d-4c89-9b6c-1ee46fe04921', '2aeed44d-d25a-401c-b5e3-92ce989b647d']}\n",
      "{'event': 'on_chat_model_stream', 'data': {'chunk': AIMessageChunk(content=' or', additional_kwargs={}, response_metadata={}, id='run--8d873ab0-c6a6-47b4-bd28-8724c4ac0a1d')}, 'run_id': '8d873ab0-c6a6-47b4-bd28-8724c4ac0a1d', 'name': 'ChatGroq', 'tags': ['seq:step:1'], 'metadata': {'thread_id': '2', 'langgraph_step': 1, 'langgraph_node': 'chatbot', 'langgraph_triggers': ('branch:to:chatbot',), 'langgraph_path': ('__pregel_pull', 'chatbot'), 'langgraph_checkpoint_ns': 'chatbot:94e9b5bb-ac97-803d-7e8c-51c1d8df2f83', 'checkpoint_ns': 'chatbot:94e9b5bb-ac97-803d-7e8c-51c1d8df2f83', 'ls_provider': 'groq', 'ls_model_name': 'llama-3.1-8b-instant', 'ls_model_type': 'chat', 'ls_temperature': 0.7}, 'parent_ids': ['a6c5677c-dd6d-4c89-9b6c-1ee46fe04921', '2aeed44d-d25a-401c-b5e3-92ce989b647d']}\n",
      "{'event': 'on_chat_model_stream', 'data': {'chunk': AIMessageChunk(content=' just', additional_kwargs={}, response_metadata={}, id='run--8d873ab0-c6a6-47b4-bd28-8724c4ac0a1d')}, 'run_id': '8d873ab0-c6a6-47b4-bd28-8724c4ac0a1d', 'name': 'ChatGroq', 'tags': ['seq:step:1'], 'metadata': {'thread_id': '2', 'langgraph_step': 1, 'langgraph_node': 'chatbot', 'langgraph_triggers': ('branch:to:chatbot',), 'langgraph_path': ('__pregel_pull', 'chatbot'), 'langgraph_checkpoint_ns': 'chatbot:94e9b5bb-ac97-803d-7e8c-51c1d8df2f83', 'checkpoint_ns': 'chatbot:94e9b5bb-ac97-803d-7e8c-51c1d8df2f83', 'ls_provider': 'groq', 'ls_model_name': 'llama-3.1-8b-instant', 'ls_model_type': 'chat', 'ls_temperature': 0.7}, 'parent_ids': ['a6c5677c-dd6d-4c89-9b6c-1ee46fe04921', '2aeed44d-d25a-401c-b5e3-92ce989b647d']}\n",
      "{'event': 'on_chat_model_stream', 'data': {'chunk': AIMessageChunk(content=' chat', additional_kwargs={}, response_metadata={}, id='run--8d873ab0-c6a6-47b4-bd28-8724c4ac0a1d')}, 'run_id': '8d873ab0-c6a6-47b4-bd28-8724c4ac0a1d', 'name': 'ChatGroq', 'tags': ['seq:step:1'], 'metadata': {'thread_id': '2', 'langgraph_step': 1, 'langgraph_node': 'chatbot', 'langgraph_triggers': ('branch:to:chatbot',), 'langgraph_path': ('__pregel_pull', 'chatbot'), 'langgraph_checkpoint_ns': 'chatbot:94e9b5bb-ac97-803d-7e8c-51c1d8df2f83', 'checkpoint_ns': 'chatbot:94e9b5bb-ac97-803d-7e8c-51c1d8df2f83', 'ls_provider': 'groq', 'ls_model_name': 'llama-3.1-8b-instant', 'ls_model_type': 'chat', 'ls_temperature': 0.7}, 'parent_ids': ['a6c5677c-dd6d-4c89-9b6c-1ee46fe04921', '2aeed44d-d25a-401c-b5e3-92ce989b647d']}\n",
      "{'event': 'on_chat_model_stream', 'data': {'chunk': AIMessageChunk(content=' with', additional_kwargs={}, response_metadata={}, id='run--8d873ab0-c6a6-47b4-bd28-8724c4ac0a1d')}, 'run_id': '8d873ab0-c6a6-47b4-bd28-8724c4ac0a1d', 'name': 'ChatGroq', 'tags': ['seq:step:1'], 'metadata': {'thread_id': '2', 'langgraph_step': 1, 'langgraph_node': 'chatbot', 'langgraph_triggers': ('branch:to:chatbot',), 'langgraph_path': ('__pregel_pull', 'chatbot'), 'langgraph_checkpoint_ns': 'chatbot:94e9b5bb-ac97-803d-7e8c-51c1d8df2f83', 'checkpoint_ns': 'chatbot:94e9b5bb-ac97-803d-7e8c-51c1d8df2f83', 'ls_provider': 'groq', 'ls_model_name': 'llama-3.1-8b-instant', 'ls_model_type': 'chat', 'ls_temperature': 0.7}, 'parent_ids': ['a6c5677c-dd6d-4c89-9b6c-1ee46fe04921', '2aeed44d-d25a-401c-b5e3-92ce989b647d']}\n",
      "{'event': 'on_chat_model_stream', 'data': {'chunk': AIMessageChunk(content=' you', additional_kwargs={}, response_metadata={}, id='run--8d873ab0-c6a6-47b4-bd28-8724c4ac0a1d')}, 'run_id': '8d873ab0-c6a6-47b4-bd28-8724c4ac0a1d', 'name': 'ChatGroq', 'tags': ['seq:step:1'], 'metadata': {'thread_id': '2', 'langgraph_step': 1, 'langgraph_node': 'chatbot', 'langgraph_triggers': ('branch:to:chatbot',), 'langgraph_path': ('__pregel_pull', 'chatbot'), 'langgraph_checkpoint_ns': 'chatbot:94e9b5bb-ac97-803d-7e8c-51c1d8df2f83', 'checkpoint_ns': 'chatbot:94e9b5bb-ac97-803d-7e8c-51c1d8df2f83', 'ls_provider': 'groq', 'ls_model_name': 'llama-3.1-8b-instant', 'ls_model_type': 'chat', 'ls_temperature': 0.7}, 'parent_ids': ['a6c5677c-dd6d-4c89-9b6c-1ee46fe04921', '2aeed44d-d25a-401c-b5e3-92ce989b647d']}\n",
      "{'event': 'on_chat_model_stream', 'data': {'chunk': AIMessageChunk(content='.', additional_kwargs={}, response_metadata={}, id='run--8d873ab0-c6a6-47b4-bd28-8724c4ac0a1d')}, 'run_id': '8d873ab0-c6a6-47b4-bd28-8724c4ac0a1d', 'name': 'ChatGroq', 'tags': ['seq:step:1'], 'metadata': {'thread_id': '2', 'langgraph_step': 1, 'langgraph_node': 'chatbot', 'langgraph_triggers': ('branch:to:chatbot',), 'langgraph_path': ('__pregel_pull', 'chatbot'), 'langgraph_checkpoint_ns': 'chatbot:94e9b5bb-ac97-803d-7e8c-51c1d8df2f83', 'checkpoint_ns': 'chatbot:94e9b5bb-ac97-803d-7e8c-51c1d8df2f83', 'ls_provider': 'groq', 'ls_model_name': 'llama-3.1-8b-instant', 'ls_model_type': 'chat', 'ls_temperature': 0.7}, 'parent_ids': ['a6c5677c-dd6d-4c89-9b6c-1ee46fe04921', '2aeed44d-d25a-401c-b5e3-92ce989b647d']}\n",
      "{'event': 'on_chat_model_stream', 'data': {'chunk': AIMessageChunk(content=' How', additional_kwargs={}, response_metadata={}, id='run--8d873ab0-c6a6-47b4-bd28-8724c4ac0a1d')}, 'run_id': '8d873ab0-c6a6-47b4-bd28-8724c4ac0a1d', 'name': 'ChatGroq', 'tags': ['seq:step:1'], 'metadata': {'thread_id': '2', 'langgraph_step': 1, 'langgraph_node': 'chatbot', 'langgraph_triggers': ('branch:to:chatbot',), 'langgraph_path': ('__pregel_pull', 'chatbot'), 'langgraph_checkpoint_ns': 'chatbot:94e9b5bb-ac97-803d-7e8c-51c1d8df2f83', 'checkpoint_ns': 'chatbot:94e9b5bb-ac97-803d-7e8c-51c1d8df2f83', 'ls_provider': 'groq', 'ls_model_name': 'llama-3.1-8b-instant', 'ls_model_type': 'chat', 'ls_temperature': 0.7}, 'parent_ids': ['a6c5677c-dd6d-4c89-9b6c-1ee46fe04921', '2aeed44d-d25a-401c-b5e3-92ce989b647d']}\n",
      "{'event': 'on_chat_model_stream', 'data': {'chunk': AIMessageChunk(content=\"'s\", additional_kwargs={}, response_metadata={}, id='run--8d873ab0-c6a6-47b4-bd28-8724c4ac0a1d')}, 'run_id': '8d873ab0-c6a6-47b4-bd28-8724c4ac0a1d', 'name': 'ChatGroq', 'tags': ['seq:step:1'], 'metadata': {'thread_id': '2', 'langgraph_step': 1, 'langgraph_node': 'chatbot', 'langgraph_triggers': ('branch:to:chatbot',), 'langgraph_path': ('__pregel_pull', 'chatbot'), 'langgraph_checkpoint_ns': 'chatbot:94e9b5bb-ac97-803d-7e8c-51c1d8df2f83', 'checkpoint_ns': 'chatbot:94e9b5bb-ac97-803d-7e8c-51c1d8df2f83', 'ls_provider': 'groq', 'ls_model_name': 'llama-3.1-8b-instant', 'ls_model_type': 'chat', 'ls_temperature': 0.7}, 'parent_ids': ['a6c5677c-dd6d-4c89-9b6c-1ee46fe04921', '2aeed44d-d25a-401c-b5e3-92ce989b647d']}\n",
      "{'event': 'on_chat_model_stream', 'data': {'chunk': AIMessageChunk(content=' your', additional_kwargs={}, response_metadata={}, id='run--8d873ab0-c6a6-47b4-bd28-8724c4ac0a1d')}, 'run_id': '8d873ab0-c6a6-47b4-bd28-8724c4ac0a1d', 'name': 'ChatGroq', 'tags': ['seq:step:1'], 'metadata': {'thread_id': '2', 'langgraph_step': 1, 'langgraph_node': 'chatbot', 'langgraph_triggers': ('branch:to:chatbot',), 'langgraph_path': ('__pregel_pull', 'chatbot'), 'langgraph_checkpoint_ns': 'chatbot:94e9b5bb-ac97-803d-7e8c-51c1d8df2f83', 'checkpoint_ns': 'chatbot:94e9b5bb-ac97-803d-7e8c-51c1d8df2f83', 'ls_provider': 'groq', 'ls_model_name': 'llama-3.1-8b-instant', 'ls_model_type': 'chat', 'ls_temperature': 0.7}, 'parent_ids': ['a6c5677c-dd6d-4c89-9b6c-1ee46fe04921', '2aeed44d-d25a-401c-b5e3-92ce989b647d']}\n",
      "{'event': 'on_chat_model_stream', 'data': {'chunk': AIMessageChunk(content=' day', additional_kwargs={}, response_metadata={}, id='run--8d873ab0-c6a6-47b4-bd28-8724c4ac0a1d')}, 'run_id': '8d873ab0-c6a6-47b4-bd28-8724c4ac0a1d', 'name': 'ChatGroq', 'tags': ['seq:step:1'], 'metadata': {'thread_id': '2', 'langgraph_step': 1, 'langgraph_node': 'chatbot', 'langgraph_triggers': ('branch:to:chatbot',), 'langgraph_path': ('__pregel_pull', 'chatbot'), 'langgraph_checkpoint_ns': 'chatbot:94e9b5bb-ac97-803d-7e8c-51c1d8df2f83', 'checkpoint_ns': 'chatbot:94e9b5bb-ac97-803d-7e8c-51c1d8df2f83', 'ls_provider': 'groq', 'ls_model_name': 'llama-3.1-8b-instant', 'ls_model_type': 'chat', 'ls_temperature': 0.7}, 'parent_ids': ['a6c5677c-dd6d-4c89-9b6c-1ee46fe04921', '2aeed44d-d25a-401c-b5e3-92ce989b647d']}\n",
      "{'event': 'on_chat_model_stream', 'data': {'chunk': AIMessageChunk(content=' going', additional_kwargs={}, response_metadata={}, id='run--8d873ab0-c6a6-47b4-bd28-8724c4ac0a1d')}, 'run_id': '8d873ab0-c6a6-47b4-bd28-8724c4ac0a1d', 'name': 'ChatGroq', 'tags': ['seq:step:1'], 'metadata': {'thread_id': '2', 'langgraph_step': 1, 'langgraph_node': 'chatbot', 'langgraph_triggers': ('branch:to:chatbot',), 'langgraph_path': ('__pregel_pull', 'chatbot'), 'langgraph_checkpoint_ns': 'chatbot:94e9b5bb-ac97-803d-7e8c-51c1d8df2f83', 'checkpoint_ns': 'chatbot:94e9b5bb-ac97-803d-7e8c-51c1d8df2f83', 'ls_provider': 'groq', 'ls_model_name': 'llama-3.1-8b-instant', 'ls_model_type': 'chat', 'ls_temperature': 0.7}, 'parent_ids': ['a6c5677c-dd6d-4c89-9b6c-1ee46fe04921', '2aeed44d-d25a-401c-b5e3-92ce989b647d']}\n",
      "{'event': 'on_chat_model_stream', 'data': {'chunk': AIMessageChunk(content=' so', additional_kwargs={}, response_metadata={}, id='run--8d873ab0-c6a6-47b4-bd28-8724c4ac0a1d')}, 'run_id': '8d873ab0-c6a6-47b4-bd28-8724c4ac0a1d', 'name': 'ChatGroq', 'tags': ['seq:step:1'], 'metadata': {'thread_id': '2', 'langgraph_step': 1, 'langgraph_node': 'chatbot', 'langgraph_triggers': ('branch:to:chatbot',), 'langgraph_path': ('__pregel_pull', 'chatbot'), 'langgraph_checkpoint_ns': 'chatbot:94e9b5bb-ac97-803d-7e8c-51c1d8df2f83', 'checkpoint_ns': 'chatbot:94e9b5bb-ac97-803d-7e8c-51c1d8df2f83', 'ls_provider': 'groq', 'ls_model_name': 'llama-3.1-8b-instant', 'ls_model_type': 'chat', 'ls_temperature': 0.7}, 'parent_ids': ['a6c5677c-dd6d-4c89-9b6c-1ee46fe04921', '2aeed44d-d25a-401c-b5e3-92ce989b647d']}\n",
      "{'event': 'on_chat_model_stream', 'data': {'chunk': AIMessageChunk(content=' far', additional_kwargs={}, response_metadata={}, id='run--8d873ab0-c6a6-47b4-bd28-8724c4ac0a1d')}, 'run_id': '8d873ab0-c6a6-47b4-bd28-8724c4ac0a1d', 'name': 'ChatGroq', 'tags': ['seq:step:1'], 'metadata': {'thread_id': '2', 'langgraph_step': 1, 'langgraph_node': 'chatbot', 'langgraph_triggers': ('branch:to:chatbot',), 'langgraph_path': ('__pregel_pull', 'chatbot'), 'langgraph_checkpoint_ns': 'chatbot:94e9b5bb-ac97-803d-7e8c-51c1d8df2f83', 'checkpoint_ns': 'chatbot:94e9b5bb-ac97-803d-7e8c-51c1d8df2f83', 'ls_provider': 'groq', 'ls_model_name': 'llama-3.1-8b-instant', 'ls_model_type': 'chat', 'ls_temperature': 0.7}, 'parent_ids': ['a6c5677c-dd6d-4c89-9b6c-1ee46fe04921', '2aeed44d-d25a-401c-b5e3-92ce989b647d']}\n",
      "{'event': 'on_chat_model_stream', 'data': {'chunk': AIMessageChunk(content='?', additional_kwargs={}, response_metadata={}, id='run--8d873ab0-c6a6-47b4-bd28-8724c4ac0a1d')}, 'run_id': '8d873ab0-c6a6-47b4-bd28-8724c4ac0a1d', 'name': 'ChatGroq', 'tags': ['seq:step:1'], 'metadata': {'thread_id': '2', 'langgraph_step': 1, 'langgraph_node': 'chatbot', 'langgraph_triggers': ('branch:to:chatbot',), 'langgraph_path': ('__pregel_pull', 'chatbot'), 'langgraph_checkpoint_ns': 'chatbot:94e9b5bb-ac97-803d-7e8c-51c1d8df2f83', 'checkpoint_ns': 'chatbot:94e9b5bb-ac97-803d-7e8c-51c1d8df2f83', 'ls_provider': 'groq', 'ls_model_name': 'llama-3.1-8b-instant', 'ls_model_type': 'chat', 'ls_temperature': 0.7}, 'parent_ids': ['a6c5677c-dd6d-4c89-9b6c-1ee46fe04921', '2aeed44d-d25a-401c-b5e3-92ce989b647d']}\n",
      "{'event': 'on_chat_model_stream', 'data': {'chunk': AIMessageChunk(content='', additional_kwargs={}, response_metadata={'finish_reason': 'stop', 'model_name': 'llama-3.1-8b-instant', 'system_fingerprint': 'fp_7083106d2c', 'service_tier': 'on_demand'}, id='run--8d873ab0-c6a6-47b4-bd28-8724c4ac0a1d', usage_metadata={'input_tokens': 42, 'output_tokens': 55, 'total_tokens': 97})}, 'run_id': '8d873ab0-c6a6-47b4-bd28-8724c4ac0a1d', 'name': 'ChatGroq', 'tags': ['seq:step:1'], 'metadata': {'thread_id': '2', 'langgraph_step': 1, 'langgraph_node': 'chatbot', 'langgraph_triggers': ('branch:to:chatbot',), 'langgraph_path': ('__pregel_pull', 'chatbot'), 'langgraph_checkpoint_ns': 'chatbot:94e9b5bb-ac97-803d-7e8c-51c1d8df2f83', 'checkpoint_ns': 'chatbot:94e9b5bb-ac97-803d-7e8c-51c1d8df2f83', 'ls_provider': 'groq', 'ls_model_name': 'llama-3.1-8b-instant', 'ls_model_type': 'chat', 'ls_temperature': 0.7}, 'parent_ids': ['a6c5677c-dd6d-4c89-9b6c-1ee46fe04921', '2aeed44d-d25a-401c-b5e3-92ce989b647d']}\n",
      "{'event': 'on_chat_model_end', 'data': {'output': AIMessage(content='Nice to meet you, Talha. My name is AI Assistant, but you can call me Assistant or just \"AI\" for short. I\\'m here to help answer any questions, provide information, or just chat with you. How\\'s your day going so far?', additional_kwargs={}, response_metadata={'finish_reason': 'stop', 'model_name': 'llama-3.1-8b-instant', 'system_fingerprint': 'fp_7083106d2c', 'service_tier': 'on_demand'}, id='run--8d873ab0-c6a6-47b4-bd28-8724c4ac0a1d', usage_metadata={'input_tokens': 42, 'output_tokens': 55, 'total_tokens': 97}), 'input': {'messages': [[HumanMessage(content='My Name is talha and your', additional_kwargs={}, response_metadata={}, id='a6f6d1da-f9d3-4057-89a2-85bcdff97eac')]]}}, 'run_id': '8d873ab0-c6a6-47b4-bd28-8724c4ac0a1d', 'name': 'ChatGroq', 'tags': ['seq:step:1'], 'metadata': {'thread_id': '2', 'langgraph_step': 1, 'langgraph_node': 'chatbot', 'langgraph_triggers': ('branch:to:chatbot',), 'langgraph_path': ('__pregel_pull', 'chatbot'), 'langgraph_checkpoint_ns': 'chatbot:94e9b5bb-ac97-803d-7e8c-51c1d8df2f83', 'checkpoint_ns': 'chatbot:94e9b5bb-ac97-803d-7e8c-51c1d8df2f83', 'ls_provider': 'groq', 'ls_model_name': 'llama-3.1-8b-instant', 'ls_model_type': 'chat', 'ls_temperature': 0.7}, 'parent_ids': ['a6c5677c-dd6d-4c89-9b6c-1ee46fe04921', '2aeed44d-d25a-401c-b5e3-92ce989b647d']}\n",
      "{'event': 'on_chain_stream', 'run_id': '2aeed44d-d25a-401c-b5e3-92ce989b647d', 'name': 'chatbot', 'tags': ['graph:step:1'], 'metadata': {'thread_id': '2', 'langgraph_step': 1, 'langgraph_node': 'chatbot', 'langgraph_triggers': ('branch:to:chatbot',), 'langgraph_path': ('__pregel_pull', 'chatbot'), 'langgraph_checkpoint_ns': 'chatbot:94e9b5bb-ac97-803d-7e8c-51c1d8df2f83'}, 'data': {'chunk': {'messages': AIMessage(content='Nice to meet you, Talha. My name is AI Assistant, but you can call me Assistant or just \"AI\" for short. I\\'m here to help answer any questions, provide information, or just chat with you. How\\'s your day going so far?', additional_kwargs={}, response_metadata={'finish_reason': 'stop', 'model_name': 'llama-3.1-8b-instant', 'system_fingerprint': 'fp_7083106d2c', 'service_tier': 'on_demand'}, id='run--8d873ab0-c6a6-47b4-bd28-8724c4ac0a1d', usage_metadata={'input_tokens': 42, 'output_tokens': 55, 'total_tokens': 97})}}, 'parent_ids': ['a6c5677c-dd6d-4c89-9b6c-1ee46fe04921']}\n",
      "{'event': 'on_chain_end', 'data': {'output': {'messages': AIMessage(content='Nice to meet you, Talha. My name is AI Assistant, but you can call me Assistant or just \"AI\" for short. I\\'m here to help answer any questions, provide information, or just chat with you. How\\'s your day going so far?', additional_kwargs={}, response_metadata={'finish_reason': 'stop', 'model_name': 'llama-3.1-8b-instant', 'system_fingerprint': 'fp_7083106d2c', 'service_tier': 'on_demand'}, id='run--8d873ab0-c6a6-47b4-bd28-8724c4ac0a1d', usage_metadata={'input_tokens': 42, 'output_tokens': 55, 'total_tokens': 97})}, 'input': {'messages': [HumanMessage(content='My Name is talha and your', additional_kwargs={}, response_metadata={}, id='a6f6d1da-f9d3-4057-89a2-85bcdff97eac')]}}, 'run_id': '2aeed44d-d25a-401c-b5e3-92ce989b647d', 'name': 'chatbot', 'tags': ['graph:step:1'], 'metadata': {'thread_id': '2', 'langgraph_step': 1, 'langgraph_node': 'chatbot', 'langgraph_triggers': ('branch:to:chatbot',), 'langgraph_path': ('__pregel_pull', 'chatbot'), 'langgraph_checkpoint_ns': 'chatbot:94e9b5bb-ac97-803d-7e8c-51c1d8df2f83'}, 'parent_ids': ['a6c5677c-dd6d-4c89-9b6c-1ee46fe04921']}\n",
      "{'event': 'on_chain_stream', 'run_id': 'a6c5677c-dd6d-4c89-9b6c-1ee46fe04921', 'name': 'LangGraph', 'tags': [], 'metadata': {'thread_id': '2'}, 'data': {'chunk': {'chatbot': {'messages': AIMessage(content='Nice to meet you, Talha. My name is AI Assistant, but you can call me Assistant or just \"AI\" for short. I\\'m here to help answer any questions, provide information, or just chat with you. How\\'s your day going so far?', additional_kwargs={}, response_metadata={'finish_reason': 'stop', 'model_name': 'llama-3.1-8b-instant', 'system_fingerprint': 'fp_7083106d2c', 'service_tier': 'on_demand'}, id='run--8d873ab0-c6a6-47b4-bd28-8724c4ac0a1d', usage_metadata={'input_tokens': 42, 'output_tokens': 55, 'total_tokens': 97})}}}, 'parent_ids': []}\n",
      "{'event': 'on_chain_end', 'data': {'output': {'messages': [HumanMessage(content='My Name is talha and your', additional_kwargs={}, response_metadata={}, id='a6f6d1da-f9d3-4057-89a2-85bcdff97eac'), AIMessage(content='Nice to meet you, Talha. My name is AI Assistant, but you can call me Assistant or just \"AI\" for short. I\\'m here to help answer any questions, provide information, or just chat with you. How\\'s your day going so far?', additional_kwargs={}, response_metadata={'finish_reason': 'stop', 'model_name': 'llama-3.1-8b-instant', 'system_fingerprint': 'fp_7083106d2c', 'service_tier': 'on_demand'}, id='run--8d873ab0-c6a6-47b4-bd28-8724c4ac0a1d', usage_metadata={'input_tokens': 42, 'output_tokens': 55, 'total_tokens': 97})]}}, 'run_id': 'a6c5677c-dd6d-4c89-9b6c-1ee46fe04921', 'name': 'LangGraph', 'tags': [], 'metadata': {'thread_id': '2'}, 'parent_ids': []}\n"
     ]
    }
   ],
   "source": [
    "async for event in workflow.astream_events({'messages':['My Name is talha and your']},config,version='v2'):\n",
    "\n",
    "    print(event)"
   ]
  },
  {
   "cell_type": "code",
   "execution_count": null,
   "id": "b192d464",
   "metadata": {},
   "outputs": [],
   "source": []
  }
 ],
 "metadata": {
  "kernelspec": {
   "display_name": "langgraph_env",
   "language": "python",
   "name": "python3"
  },
  "language_info": {
   "codemirror_mode": {
    "name": "ipython",
    "version": 3
   },
   "file_extension": ".py",
   "mimetype": "text/x-python",
   "name": "python",
   "nbconvert_exporter": "python",
   "pygments_lexer": "ipython3",
   "version": "3.13.2"
  }
 },
 "nbformat": 4,
 "nbformat_minor": 5
}
