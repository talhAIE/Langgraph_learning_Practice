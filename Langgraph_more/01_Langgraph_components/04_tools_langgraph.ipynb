{
 "cells": [
  {
   "cell_type": "markdown",
   "id": "122e3c04",
   "metadata": {},
   "source": [
    "# Tools\n",
    "\n",
    "integrate with LLM to get interact with external system like API,tools etc\n",
    "\n",
    "model will choose the tool based on query "
   ]
  },
  {
   "cell_type": "code",
   "execution_count": 41,
   "id": "9bd45b72",
   "metadata": {},
   "outputs": [
    {
     "data": {
      "text/plain": [
       "True"
      ]
     },
     "execution_count": 41,
     "metadata": {},
     "output_type": "execute_result"
    }
   ],
   "source": [
    "from langgraph.graph import StateGraph,START,END\n",
    "from langchain_groq import ChatGroq\n",
    "from langchain_core.messages import AnyMessage,HumanMessage\n",
    "from dotenv import load_dotenv\n",
    "from typing import TypedDict,Annotated\n",
    "from langgraph.graph.message import add_messages\n",
    "load_dotenv()"
   ]
  },
  {
   "cell_type": "code",
   "execution_count": 42,
   "id": "5fca6791",
   "metadata": {},
   "outputs": [],
   "source": [
    "# message state\n",
    "class state(TypedDict):\n",
    "    messages:Annotated[list[AnyMessage],add_messages]\n"
   ]
  },
  {
   "cell_type": "code",
   "execution_count": 43,
   "id": "3d292a22",
   "metadata": {},
   "outputs": [],
   "source": [
    "llm=ChatGroq(model='llama-3.1-8b-instant')"
   ]
  },
  {
   "cell_type": "code",
   "execution_count": 44,
   "id": "66bbe3e2",
   "metadata": {},
   "outputs": [],
   "source": [
    "# lets create tools\n",
    "\n",
    "def add_tool(a:int,b:int)->int:\n",
    "    '''add a and b\n",
    "    Args:\n",
    "    a(int): first number\n",
    "    b(int):second number\n",
    "    return a+b(int) '''\n",
    "    return a+b\n",
    "\n",
    "def multiply_tool(a:int,b:int)->int:\n",
    "    '''multiply a and b\n",
    "    Args:\n",
    "    a(int): first number\n",
    "    b(int):second number\n",
    "    return a*b(int) '''\n",
    "    return a*b\n",
    "\n",
    "def subtract_tool(a:int,b:int)->int:\n",
    "    '''subtract a and b\n",
    "    Args:\n",
    "    a(int): first number\n",
    "    b(int):second number\n",
    "    return a-b(int) '''\n",
    "    return a-b"
   ]
  },
  {
   "cell_type": "code",
   "execution_count": 45,
   "id": "cac7b363",
   "metadata": {},
   "outputs": [],
   "source": [
    "# langcahin built in tools\n",
    "# wikipedia tool\n",
    "from langchain_community.tools import WikipediaQueryRun\n",
    "from langchain_community.utilities import WikipediaAPIWrapper\n",
    "wiki_wrapper=WikipediaAPIWrapper(top_k_results=2,doc_content_chars_max=500)\n",
    "wikipedia = WikipediaQueryRun(api_wrapper=wiki_wrapper)"
   ]
  },
  {
   "cell_type": "code",
   "execution_count": 46,
   "id": "59aa1acb",
   "metadata": {},
   "outputs": [],
   "source": [
    "# arxiv tool\n",
    "from langchain_community.utilities import ArxivAPIWrapper\n",
    "from langchain_community.tools import ArxivQueryRun\n",
    "arxiv_wrapper=ArxivAPIWrapper(top_k_results=2,doc_content_chars_max=500)\n",
    "arxiv = ArxivQueryRun(api_wrapper=arxiv_wrapper)"
   ]
  },
  {
   "cell_type": "code",
   "execution_count": 47,
   "id": "edc25cb5",
   "metadata": {},
   "outputs": [],
   "source": [
    "tools=[add_tool,multiply_tool,subtract_tool,wikipedia,arxiv]"
   ]
  },
  {
   "cell_type": "code",
   "execution_count": 48,
   "id": "a24f82e4",
   "metadata": {},
   "outputs": [],
   "source": [
    "llm_with_tool=llm.bind_tools(tools)"
   ]
  },
  {
   "cell_type": "code",
   "execution_count": 49,
   "id": "5221a453",
   "metadata": {},
   "outputs": [],
   "source": [
    "def llm_tool(state:state)->state:\n",
    "    res=llm_with_tool.invoke(state['messages'])\n",
    "    return {\n",
    "        'messages':[res]\n",
    "    }"
   ]
  },
  {
   "cell_type": "code",
   "execution_count": 50,
   "id": "b1fa30f5",
   "metadata": {},
   "outputs": [],
   "source": [
    "tools=[add_tool,multiply_tool,subtract_tool,wikipedia,arxiv]"
   ]
  },
  {
   "cell_type": "code",
   "execution_count": 51,
   "id": "0d500e5a",
   "metadata": {},
   "outputs": [],
   "source": [
    "from langgraph.prebuilt import ToolNode,tools_condition"
   ]
  },
  {
   "cell_type": "code",
   "execution_count": 52,
   "id": "9a4f9630",
   "metadata": {},
   "outputs": [],
   "source": [
    "# graph\n",
    "\n",
    "graph=StateGraph(state)\n",
    "graph.add_node('chatbot',llm_tool)\n",
    "graph.add_node('tools',ToolNode(tools))\n",
    "\n",
    "graph.add_edge(START,'chatbot')\n",
    "graph.add_conditional_edges('chatbot',\n",
    "                            tools_condition) # if chatbot return tool call it will route to tool else END\n",
    "\n",
    "graph.add_edge('tools',END)\n",
    "\n",
    "workflow=graph.compile()"
   ]
  },
  {
   "cell_type": "code",
   "execution_count": 53,
   "id": "df38c822",
   "metadata": {},
   "outputs": [
    {
     "data": {
      "image/png": "[encoded data removed]",
      "text/plain": [
       "<langgraph.graph.state.CompiledStateGraph object at 0x0000013A63AE9090>"
      ]
     },
     "execution_count": 53,
     "metadata": {},
     "output_type": "execute_result"
    }
   ],
   "source": [
    "workflow"
   ]
  },
  {
   "cell_type": "code",
   "execution_count": 54,
   "id": "b00433c2",
   "metadata": {},
   "outputs": [],
   "source": [
    "result=workflow.invoke(\n",
    "    {'messages':'what is 4 - 4'}\n",
    ")"
   ]
  },
  {
   "cell_type": "code",
   "execution_count": 55,
   "id": "a04a24bf",
   "metadata": {},
   "outputs": [
    {
     "data": {
      "text/plain": [
       "{'messages': [HumanMessage(content='what is 4 - 4', additional_kwargs={}, response_metadata={}, id='14d2c2c4-7e3f-4abc-a23c-dd9b0016392c'),\n",
       "  AIMessage(content='', additional_kwargs={'tool_calls': [{'id': 'bgjwbxn2c', 'function': {'arguments': '{\"a\":4,\"b\":4}', 'name': 'subtract_tool'}, 'type': 'function'}]}, response_metadata={'token_usage': {'completion_tokens': 20, 'prompt_tokens': 722, 'total_tokens': 742, 'completion_time': 0.033304635, 'prompt_time': 0.9370037, 'queue_time': 0.257854676, 'total_time': 0.970308335}, 'model_name': 'llama-3.1-8b-instant', 'system_fingerprint': 'fp_2115512ff6', 'service_tier': 'on_demand', 'finish_reason': 'tool_calls', 'logprobs': None}, id='run--2411ac19-c680-4a10-b419-6a8292f48c7f-0', tool_calls=[{'name': 'subtract_tool', 'args': {'a': 4, 'b': 4}, 'id': 'bgjwbxn2c', 'type': 'tool_call'}], usage_metadata={'input_tokens': 722, 'output_tokens': 20, 'total_tokens': 742}),\n",
       "  ToolMessage(content='0', name='subtract_tool', id='9719952d-bb9a-4b5e-a699-274c12c87052', tool_call_id='bgjwbxn2c')]}"
      ]
     },
     "execution_count": 55,
     "metadata": {},
     "output_type": "execute_result"
    }
   ],
   "source": [
    "result"
   ]
  },
  {
   "cell_type": "code",
   "execution_count": 56,
   "id": "c7c0805e",
   "metadata": {},
   "outputs": [],
   "source": [
    "from pprint import pprint"
   ]
  },
  {
   "cell_type": "code",
   "execution_count": 57,
   "id": "6a864608",
   "metadata": {},
   "outputs": [
    {
     "name": "stdout",
     "output_type": "stream",
     "text": [
      "================================\u001b[1m Human Message \u001b[0m=================================\n",
      "\n",
      "what is 4 - 4\n",
      "==================================\u001b[1m Ai Message \u001b[0m==================================\n",
      "Tool Calls:\n",
      "  subtract_tool (bgjwbxn2c)\n",
      " Call ID: bgjwbxn2c\n",
      "  Args:\n",
      "    a: 4\n",
      "    b: 4\n",
      "=================================\u001b[1m Tool Message \u001b[0m=================================\n",
      "Name: subtract_tool\n",
      "\n",
      "0\n"
     ]
    }
   ],
   "source": [
    "for res in result['messages']:\n",
    "    res.pretty_print()"
   ]
  },
  {
   "cell_type": "code",
   "execution_count": 58,
   "id": "e8cc9720",
   "metadata": {},
   "outputs": [],
   "source": [
    "result=workflow.invoke(\n",
    "    {'messages':'i want this paper abstract Attention all you need'}\n",
    ")"
   ]
  },
  {
   "cell_type": "code",
   "execution_count": 59,
   "id": "df1c0989",
   "metadata": {},
   "outputs": [
    {
     "data": {
      "text/plain": [
       "{'messages': [HumanMessage(content='i want this paper abstract Attention all you need', additional_kwargs={}, response_metadata={}, id='68e2b1c1-dae2-4965-906c-04d19c3d9bab'),\n",
       "  AIMessage(content='', additional_kwargs={'tool_calls': [{'id': 'm9rgwx7cm', 'function': {'arguments': '{\"query\":\"Attention is all you need\"}', 'name': 'arxiv'}, 'type': 'function'}]}, response_metadata={'token_usage': {'completion_tokens': 19, 'prompt_tokens': 724, 'total_tokens': 743, 'completion_time': 0.031513107, 'prompt_time': 0.689111583, 'queue_time': 0.136873016, 'total_time': 0.72062469}, 'model_name': 'llama-3.1-8b-instant', 'system_fingerprint': 'fp_c40956ddc4', 'service_tier': 'on_demand', 'finish_reason': 'tool_calls', 'logprobs': None}, id='run--b172f321-4c02-49d9-99d0-22347abdac2a-0', tool_calls=[{'name': 'arxiv', 'args': {'query': 'Attention is all you need'}, 'id': 'm9rgwx7cm', 'type': 'tool_call'}], usage_metadata={'input_tokens': 724, 'output_tokens': 19, 'total_tokens': 743}),\n",
       "  ToolMessage(content=\"Published: 2024-07-22\\nTitle: Attention Is All You Need But You Don't Need All Of It For Inference of Large Language Models\\nAuthors: Georgy Tyukin, Gbetondji J-S Dovonon, Jean Kaddour, Pasquale Minervini\\nSummary: The inference demand for LLMs has skyrocketed in recent months, and serving\\nmodels with low latencies remains challenging due to the quadratic input length\\ncomplexity of the attention layers. In this work, we investigate the effect of\\ndropping MLP and attention layers at inference time o\", name='arxiv', id='c16c695d-248d-4f9b-ba26-afd2b399782a', tool_call_id='m9rgwx7cm')]}"
      ]
     },
     "execution_count": 59,
     "metadata": {},
     "output_type": "execute_result"
    }
   ],
   "source": [
    "result"
   ]
  },
  {
   "cell_type": "code",
   "execution_count": 60,
   "id": "e5ad213d",
   "metadata": {},
   "outputs": [],
   "source": [
    "result=workflow.invoke(\n",
    "    {'messages':'what is python'}\n",
    ")"
   ]
  },
  {
   "cell_type": "code",
   "execution_count": 61,
   "id": "b18b2286",
   "metadata": {},
   "outputs": [
    {
     "data": {
      "text/plain": [
       "{'messages': [HumanMessage(content='what is python', additional_kwargs={}, response_metadata={}, id='cf21df87-dc20-4e77-adcd-e08d54fe79ce'),\n",
       "  AIMessage(content='', additional_kwargs={'tool_calls': [{'id': '92mg0r77g', 'function': {'arguments': '{\"query\":\"Python programming language\"}', 'name': 'wikipedia'}, 'type': 'function'}]}, response_metadata={'token_usage': {'completion_tokens': 16, 'prompt_tokens': 718, 'total_tokens': 734, 'completion_time': 0.026256484, 'prompt_time': 0.045304842, 'queue_time': 0.125910238, 'total_time': 0.071561326}, 'model_name': 'llama-3.1-8b-instant', 'system_fingerprint': 'fp_7083106d2c', 'service_tier': 'on_demand', 'finish_reason': 'tool_calls', 'logprobs': None}, id='run--654dc0ef-ccbb-4590-a103-90ac5c2cd5fa-0', tool_calls=[{'name': 'wikipedia', 'args': {'query': 'Python programming language'}, 'id': '92mg0r77g', 'type': 'tool_call'}], usage_metadata={'input_tokens': 718, 'output_tokens': 16, 'total_tokens': 734}),\n",
       "  ToolMessage(content='Page: Python (programming language)\\nSummary: Python is a high-level, general-purpose programming language. Its design philosophy emphasizes code readability with the use of significant indentation.\\nPython is dynamically type-checked and garbage-collected. It supports multiple programming paradigms, including structured (particularly procedural), object-oriented and functional programming.\\nGuido van Rossum began working on Python in the late 1980s as a successor to the ABC programming language. P', name='wikipedia', id='5d282a63-7651-42b0-8a0d-25cbedf5b1aa', tool_call_id='92mg0r77g')]}"
      ]
     },
     "execution_count": 61,
     "metadata": {},
     "output_type": "execute_result"
    }
   ],
   "source": [
    "result"
   ]
  },
  {
   "cell_type": "code",
   "execution_count": null,
   "id": "def8b9f5",
   "metadata": {},
   "outputs": [],
   "source": []
  }
 ],
 "metadata": {
  "kernelspec": {
   "display_name": "langgraph_env",
   "language": "python",
   "name": "python3"
  },
  "language_info": {
   "codemirror_mode": {
    "name": "ipython",
    "version": 3
   },
   "file_extension": ".py",
   "mimetype": "text/x-python",
   "name": "python",
   "nbconvert_exporter": "python",
   "pygments_lexer": "ipython3",
   "version": "3.13.2"
  }
 },
 "nbformat": 4,
 "nbformat_minor": 5
}
