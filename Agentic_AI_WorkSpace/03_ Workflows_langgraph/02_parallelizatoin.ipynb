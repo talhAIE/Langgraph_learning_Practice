{
 "cells": [
  {
   "cell_type": "markdown",
   "id": "69443c24",
   "metadata": {},
   "source": [
    "# Parallelization\n",
    "In LangGraph, nodes typically execute in a sequence defined by edges, but when tasks don't depend on each other's outputs, you can run them in parallel. This is achieved by:\n",
    "\n",
    "- Defining multiple nodes that can operate independently.\n",
    "- Connecting them to a common starting point (e.g., START or another node).\n",
    "- Merging their outputs into a downstream node if needed."
   ]
  },
  {
   "cell_type": "code",
   "execution_count": 46,
   "id": "eae46322",
   "metadata": {},
   "outputs": [],
   "source": [
    "from langgraph.graph import StateGraph,START,END\n",
    "from typing import TypedDict\n",
    "from langchain_groq import ChatGroq"
   ]
  },
  {
   "cell_type": "code",
   "execution_count": 47,
   "id": "ecec1c5d",
   "metadata": {},
   "outputs": [],
   "source": [
    "class state(TypedDict):\n",
    "    topic:str\n",
    "    characters:str\n",
    "    settings:str\n",
    "    premises:str\n",
    "    story_intro:str"
   ]
  },
  {
   "cell_type": "code",
   "execution_count": 48,
   "id": "831d3cea",
   "metadata": {},
   "outputs": [],
   "source": [
    "llm=ChatGroq(model='llama-3.1-8b-instant')"
   ]
  },
  {
   "cell_type": "code",
   "execution_count": 49,
   "id": "e621a9ae",
   "metadata": {},
   "outputs": [],
   "source": [
    "def gen_characters(state):\n",
    "    res=llm.invoke(f\"Create two character names and brief traits for a story about {state['topic']}\")\n",
    "    return {'characters':res.content}"
   ]
  },
  {
   "cell_type": "code",
   "execution_count": 50,
   "id": "4f1dd623",
   "metadata": {},
   "outputs": [],
   "source": [
    "def gen_settings(state):\n",
    "    res=llm.invoke(f\"Describe a vivid setting for a story aboud : {state['topic']}\")\n",
    "    return {'settings':res.content}"
   ]
  },
  {
   "cell_type": "code",
   "execution_count": 51,
   "id": "586a1d90",
   "metadata": {},
   "outputs": [],
   "source": [
    "def gen_premise(state):\n",
    "    res=llm.invoke(f\"write a 1 sentence premise about a story {state['topic']}\")\n",
    "    return{\n",
    "        'premises':res.content\n",
    "    }\n"
   ]
  },
  {
   "cell_type": "code",
   "execution_count": 52,
   "id": "452e2c3a",
   "metadata": {},
   "outputs": [],
   "source": [
    "def combine_element(state):\n",
    "    res=llm.invoke(\n",
    "            f\"write a short story introduction using these elements \\n characters: {state['characters']} \\n Settings : {state['settings']} \\n premises: {state['premises']}\")\n",
    "    return {\n",
    "        'story_intro':res.content\n",
    "    }\n"
   ]
  },
  {
   "cell_type": "code",
   "execution_count": 53,
   "id": "3aa8c534",
   "metadata": {},
   "outputs": [
    {
     "data": {
      "text/plain": [
       "<langgraph.graph.state.StateGraph at 0x187baac5e50>"
      ]
     },
     "execution_count": 53,
     "metadata": {},
     "output_type": "execute_result"
    }
   ],
   "source": [
    "graph=StateGraph(state)\n",
    "\n",
    "graph.add_node('gen_character',gen_characters)\n",
    "graph.add_node('gen_settings',gen_settings)\n",
    "graph.add_node('gen_premise',gen_premise)\n",
    "graph.add_node('combine_element',combine_element)\n",
    "\n",
    "graph.add_edge(START,'gen_character')\n",
    "graph.add_edge(START,'gen_settings')\n",
    "graph.add_edge(START,'gen_premise')\n",
    "graph.add_edge('gen_character','combine_element')\n",
    "graph.add_edge('gen_settings','combine_element')\n",
    "graph.add_edge('gen_premise','combine_element')\n",
    "graph.add_edge('combine_element',END)"
   ]
  },
  {
   "cell_type": "code",
   "execution_count": 54,
   "id": "e0e8e742",
   "metadata": {},
   "outputs": [],
   "source": [
    "workflow=graph.compile()"
   ]
  },
  {
   "cell_type": "code",
   "execution_count": 55,
   "id": "525fef95",
   "metadata": {},
   "outputs": [
    {
     "data": {
      "image/png": "[encoded data removed]",
      "text/plain": [
       "<langgraph.graph.state.CompiledStateGraph object at 0x00000187BAAC6C10>"
      ]
     },
     "execution_count": 55,
     "metadata": {},
     "output_type": "execute_result"
    }
   ],
   "source": [
    "workflow"
   ]
  },
  {
   "cell_type": "code",
   "execution_count": 56,
   "id": "aef8a7e2",
   "metadata": {},
   "outputs": [
    {
     "data": {
      "text/plain": [
       "{'topic': 'time travel',\n",
       " 'characters': 'Here are two potential character names and brief traits for a story about time travel:\\n\\n1. **Name:** Emilia \"Mia\" Thompson\\n**Age:** 25\\n**Occupation:** Historian and Temporal Physicist\\n**Personality:** Mia is a brilliant and resourceful individual with a passion for history. She\\'s fiercely independent and has a strong sense of curiosity. Her analytical mind often gets her into trouble, but she\\'s always willing to take calculated risks to uncover the truth.\\n**Physical Description:** Mia has short, curly brown hair and bright green eyes. She\\'s petite, but has a wiry physique that belies her intelligence and determination.\\n\\n2. **Name:** Julian \"Jules\" Blackwood\\n**Age:** 30\\n**Occupation:** Temporal Agent (Time Traveler)\\n**Personality:** Jules is a charming and resourceful individual with a talent for getting out of tight spots. He\\'s been trained as a Temporal Agent, and has a wealth of experience navigating the complexities of time travel. Despite his tough exterior, he has a soft spot for Mia and is often willing to go against protocol to help her.\\n\\nTogether, these two characters bring contrasting skills and perspectives to the world of time travel, setting the stage for an exciting adventure.',\n",
       " 'settings': \"**The Abandoned Clock Tower on a Stormy Night**\\n\\nThe year was 1912, and the world was about to change forever. But on this particular night, the air was thick with an eerie sense of foreboding. The storm that had been brewing all day finally unleashed its full fury, casting a dark and foreboding shadow over the small town of Ravenswood. The streets were deserted, save for the occasional crackle of lightning that illuminated the deserted sidewalks.\\n\\nAt the heart of the town, a majestic clock tower stood tall, its stone façade weathered to a moss-covered grey. The clock's face, once a proud and precise timekeeper, now seemed to stare blindly into the stormy night, its hands frozen at 11:47. The tower's entrance, a heavy wooden door with intricate carvings, creaked ominously in the wind, as if beckoning brave adventurers to come and unlock its secrets.\\n\\nInside the tower, the air was stale and musty, filled with the scent of decay and forgotten memories. Dust coated every surface, and cobwebs clung to the walls like spectral fingers. A lone, flickering candle cast eerie shadows on the walls, casting an otherworldly glow over the labyrinthine corridors.\\n\\nIn the heart of the tower, a mysterious device hummed with an otherworldly energy. A sprawling contraption of brass, copper, and crystal, it pulsed with an electric blue light, as if harnessing the very essence of time itself. The device, a time machine created by the enigmatic and reclusive clockmaker, Emile LaFleur, had been hidden away for decades, waiting for the brave and the curious to stumble upon it.\\n\\nAs the storm raged on outside, the clock tower seemed to vibrate with an energy that was both ancient and timeless. It was as if the very fabric of reality was about to tear apart, revealing secrets that had been hidden for centuries. And in the midst of this turmoil, a young adventurer, fueled by curiosity and a thirst for discovery, was about to step into the unknown, ready to unlock the mysteries of the clock tower and the secrets of time itself.\\n\\n**The Stage is Set**\\n\\nThe stage is set for a thrilling adventure through time, where the boundaries of past, present, and future are about to be shattered. Will our brave adventurer be able to harness the power of the clock tower and unlock the secrets of time? Or will they become the latest victim of the tower's dark and mysterious past? The clock is ticking, and the fate of the world hangs in the balance.\",\n",
       " 'premises': 'When a brilliant but reclusive physicist discovers a way to send emails to her past self, she inadvertently creates a ripple effect that threatens to destroy the timeline and forces her to navigate a complex web of cause and effect to prevent a catastrophic future.',\n",
       " 'story_intro': '**The Stormy Night Before**\\n\\nAs the tempestuous night of 1912 descended upon Ravenswood, casting a foreboding shadow over the small town, two individuals stood poised at the threshold of the abandoned clock tower. Emilia \"Mia\" Thompson, a brilliant and resourceful historian and temporal physicist, and Julian \"Jules\" Blackwood, a seasoned temporal agent, had been drawn to the tower by whispers of a long-lost time machine. The air was heavy with the scent of decay and forgotten memories, and the flickering candle cast eerie shadows on the walls as they stepped into the musty, cobweb-filled interior.\\n\\nTheir arrival was not mere coincidence. Mia had been tracking the elusive Emile LaFleur, the enigmatic clockmaker who had created the time machine, and Jules had been dispatched to assist her in unraveling the mysteries of the device. As they navigated the labyrinthine corridors, the creaking wooden door and the hum of the time machine grew louder, beckoning them deeper into the heart of the tower.\\n\\nTheir destination was a fateful convergence of past, present, and future, where the very fabric of time was about to be torn apart. Unbeknownst to them, a series of events, triggered by a brilliant but reclusive physicist\\'s experiments with time travel, had set in motion a catastrophic chain reaction that threatened to destroy the timeline. As they delved deeper into the clock tower, Mia and Jules were about to stumble into a complex web of cause and effect, where the consequences of their actions would determine the fate of the world.'}"
      ]
     },
     "execution_count": 56,
     "metadata": {},
     "output_type": "execute_result"
    }
   ],
   "source": [
    "workflow.invoke({'topic':'time travel'})"
   ]
  },
  {
   "cell_type": "code",
   "execution_count": null,
   "id": "acab4a2e",
   "metadata": {},
   "outputs": [],
   "source": []
  }
 ],
 "metadata": {
  "kernelspec": {
   "display_name": "langgraph_env",
   "language": "python",
   "name": "python3"
  },
  "language_info": {
   "codemirror_mode": {
    "name": "ipython",
    "version": 3
   },
   "file_extension": ".py",
   "mimetype": "text/x-python",
   "name": "python",
   "nbconvert_exporter": "python",
   "pygments_lexer": "ipython3",
   "version": "3.13.2"
  }
 },
 "nbformat": 4,
 "nbformat_minor": 5
}
