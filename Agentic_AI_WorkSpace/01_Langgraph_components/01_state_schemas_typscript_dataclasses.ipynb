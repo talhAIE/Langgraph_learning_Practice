{
 "cells": [
  {
   "cell_type": "markdown",
   "id": "164edfbb",
   "metadata": {},
   "source": [
    "# State Schemas with TypedDict\n"
   ]
  },
  {
   "cell_type": "code",
   "execution_count": null,
   "id": "cddc2dcd",
   "metadata": {},
   "outputs": [],
   "source": [
    "from typing import TypedDict\n",
    "\n",
    "class state(TypedDict):\n",
    "    name:str\n",
    "    age:int\n",
    "\n",
    "# but we can but any datatype value it will not give us any error"
   ]
  },
  {
   "cell_type": "markdown",
   "id": "5fa38e75",
   "metadata": {},
   "source": [
    "# state schema with Dataclasses"
   ]
  },
  {
   "cell_type": "code",
   "execution_count": 2,
   "id": "e1b22c23",
   "metadata": {},
   "outputs": [],
   "source": [
    "from dataclasses import dataclass\n",
    "@dataclass # to store data\n",
    "class Dataclass:\n",
    "    name:str\n",
    "    age:int\n",
    "# we can also write anytype of data it wil not give us error"
   ]
  },
  {
   "cell_type": "code",
   "execution_count": 5,
   "id": "475cda4c",
   "metadata": {},
   "outputs": [],
   "source": [
    "def display_info(state:Dataclass)->Dataclass:\n",
    "    return {'name':state.name,'age':state.age}"
   ]
  },
  {
   "cell_type": "code",
   "execution_count": 6,
   "id": "afc75f84",
   "metadata": {},
   "outputs": [],
   "source": [
    "from langgraph.graph import StateGraph,START,END\n",
    "graph=StateGraph(Dataclass)\n",
    "graph.add_node('display',display_info)\n",
    "graph.add_edge(START,'display')\n",
    "graph.add_edge('display',END)\n",
    "workflow=graph.compile()"
   ]
  },
  {
   "cell_type": "code",
   "execution_count": 11,
   "id": "f2fc9f97",
   "metadata": {},
   "outputs": [
    {
     "data": {
      "text/plain": [
       "{'name': 'Talha', 'age': 13}"
      ]
     },
     "execution_count": 11,
     "metadata": {},
     "output_type": "execute_result"
    }
   ],
   "source": [
    "workflow.invoke(Dataclass(name=\"Talha\", age=13))\n"
   ]
  },
  {
   "cell_type": "code",
   "execution_count": null,
   "id": "68f145e5",
   "metadata": {},
   "outputs": [],
   "source": []
  }
 ],
 "metadata": {
  "kernelspec": {
   "display_name": "langgraph_env",
   "language": "python",
   "name": "python3"
  },
  "language_info": {
   "codemirror_mode": {
    "name": "ipython",
    "version": 3
   },
   "file_extension": ".py",
   "mimetype": "text/x-python",
   "name": "python",
   "nbconvert_exporter": "python",
   "pygments_lexer": "ipython3",
   "version": "3.13.2"
  }
 },
 "nbformat": 4,
 "nbformat_minor": 5
}
