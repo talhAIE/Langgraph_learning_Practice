{
 "cells": [
  {
   "cell_type": "markdown",
   "id": "b1b35c3f",
   "metadata": {},
   "source": [
    "# simple Chatbot"
   ]
  },
  {
   "cell_type": "code",
   "execution_count": null,
   "id": "fa068665",
   "metadata": {},
   "outputs": [
    {
     "data": {
      "text/plain": [
       "True"
      ]
     },
     "execution_count": 1,
     "metadata": {},
     "output_type": "execute_result"
    }
   ],
   "source": [
    "from langgraph.graph import StateGraph,START,END\n",
    "from langchain_groq import ChatGroq\n",
    "from typing import  TypedDict,Literal,Annotated\n",
    "from langgraph.graph.message import add_messages\n",
    "from langchain_core.messages import BaseMessage,HumanMessage\n",
    "from langgraph.checkpoint.memory import MemorySaver,InMemorySaver\n",
    "from dotenv import load_dotenv\n",
    "load_dotenv()"
   ]
  },
  {
   "cell_type": "code",
   "execution_count": 2,
   "id": "0d5b6aa8",
   "metadata": {},
   "outputs": [],
   "source": [
    "# state\n",
    "\n",
    "class State(TypedDict):\n",
    "    messages: Annotated[list[BaseMessage],add_messages]"
   ]
  },
  {
   "cell_type": "code",
   "execution_count": 3,
   "id": "87f0ca2f",
   "metadata": {},
   "outputs": [],
   "source": [
    "llm=ChatGroq(model='llama-3.1-8b-instant')\n",
    "def chat_node(state:State)->State:\n",
    "    prompt=state['messages']\n",
    "    response=llm.invoke(prompt)\n",
    "    return {\n",
    "        'messages':[response]\n",
    "    }"
   ]
  },
  {
   "cell_type": "code",
   "execution_count": 4,
   "id": "1ee44d1b",
   "metadata": {},
   "outputs": [],
   "source": [
    "#graph\n",
    "# checkpointer\n",
    "checkpointer=MemorySaver()\n",
    "graph=StateGraph(State)\n",
    "\n",
    "graph.add_node('Chatbot',chat_node)\n",
    "graph.add_edge(START,'Chatbot')\n",
    "graph.add_edge('Chatbot',END)\n",
    "\n",
    "workflow=graph.compile(checkpointer=checkpointer)"
   ]
  },
  {
   "cell_type": "code",
   "execution_count": 5,
   "id": "9660d404",
   "metadata": {},
   "outputs": [
    {
     "data": {
      "image/png": "[encoded data removed]",
      "text/plain": [
       "<langgraph.graph.state.CompiledStateGraph object at 0x0000023B787ADBE0>"
      ]
     },
     "execution_count": 5,
     "metadata": {},
     "output_type": "execute_result"
    }
   ],
   "source": [
    "workflow"
   ]
  },
  {
   "cell_type": "code",
   "execution_count": 6,
   "id": "95f7194c",
   "metadata": {},
   "outputs": [
    {
     "name": "stdout",
     "output_type": "stream",
     "text": [
      "AI:  I don't have any information about your name. I'm a conversational AI, and our conversation just started. I don't retain any information about individual users. If you'd like to share your name, I'm happy to chat with you.\n"
     ]
    }
   ],
   "source": [
    "thread_id='1'\n",
    "while True:\n",
    "    user_input=input('Enter your message here: ')\n",
    "    if user_input.strip().lower() in  ['exit','quit','bye']:\n",
    "        break\n",
    "    config={'configurable':{'thread_id':thread_id}}\n",
    "    response=workflow.invoke({'messages':[HumanMessage(content=user_input)]},config=config)\n",
    "    print(\"AI: \", response['messages'][-1].content)\n"
   ]
  },
  {
   "cell_type": "code",
   "execution_count": 7,
   "id": "798634eb",
   "metadata": {},
   "outputs": [
    {
     "data": {
      "text/plain": [
       "StateSnapshot(values={'messages': [HumanMessage(content='what is my name', additional_kwargs={}, response_metadata={}, id='bb7b5d5a-9943-4049-97f4-875cc1259d61'), AIMessage(content=\"I don't have any information about your name. I'm a conversational AI, and our conversation just started. I don't retain any information about individual users. If you'd like to share your name, I'm happy to chat with you.\", additional_kwargs={}, response_metadata={'token_usage': {'completion_tokens': 51, 'prompt_tokens': 39, 'total_tokens': 90, 'completion_time': 0.056771965, 'prompt_time': 0.0650859, 'queue_time': 0.020557735, 'total_time': 0.121857865}, 'model_name': 'llama-3.1-8b-instant', 'system_fingerprint': 'fp_2115512ff6', 'service_tier': 'on_demand', 'finish_reason': 'stop', 'logprobs': None}, id='run--e16ef713-c9fe-41b3-b555-a38fd9f90f79-0', usage_metadata={'input_tokens': 39, 'output_tokens': 51, 'total_tokens': 90})]}, next=(), config={'configurable': {'thread_id': '1', 'checkpoint_ns': '', 'checkpoint_id': '1f08a9a6-09e2-69b9-8001-1c2b6c261411'}}, metadata={'source': 'loop', 'step': 1, 'parents': {}}, created_at='2025-09-05T20:53:29.906003+00:00', parent_config={'configurable': {'thread_id': '1', 'checkpoint_ns': '', 'checkpoint_id': '1f08a9a6-0171-6fff-8000-7085d0b01bfe'}}, tasks=(), interrupts=())"
      ]
     },
     "execution_count": 7,
     "metadata": {},
     "output_type": "execute_result"
    }
   ],
   "source": [
    "workflow.get_state(config=config)"
   ]
  },
  {
   "cell_type": "code",
   "execution_count": null,
   "id": "084ef6a1",
   "metadata": {},
   "outputs": [],
   "source": []
  }
 ],
 "metadata": {
  "kernelspec": {
   "display_name": "langgraph_env",
   "language": "python",
   "name": "python3"
  },
  "language_info": {
   "codemirror_mode": {
    "name": "ipython",
    "version": 3
   },
   "file_extension": ".py",
   "mimetype": "text/x-python",
   "name": "python",
   "nbconvert_exporter": "python",
   "pygments_lexer": "ipython3",
   "version": "3.13.2"
  }
 },
 "nbformat": 4,
 "nbformat_minor": 5
}
