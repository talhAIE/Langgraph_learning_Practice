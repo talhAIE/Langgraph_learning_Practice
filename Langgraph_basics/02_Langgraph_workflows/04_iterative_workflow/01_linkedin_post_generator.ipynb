{
 "cells": [
  {
   "cell_type": "markdown",
   "id": "14f81050",
   "metadata": {},
   "source": [
    "# Linkedin Post Generator\n"
   ]
  },
  {
   "cell_type": "code",
   "execution_count": 145,
   "id": "0b19780f",
   "metadata": {},
   "outputs": [
    {
     "data": {
      "text/plain": [
       "True"
      ]
     },
     "execution_count": 145,
     "metadata": {},
     "output_type": "execute_result"
    }
   ],
   "source": [
    "from langgraph.graph import StateGraph, START, END\n",
    "from langchain_openai import ChatOpenAI\n",
    "from pydantic import BaseModel, Field\n",
    "from typing import TypedDict,Literal,Annotated\n",
    "from langchain_core.prompts import ChatPromptTemplate\n",
    "from langchain_core.output_parsers import StrOutputParser\n",
    "import operator\n",
    "from dotenv import load_dotenv\n",
    "load_dotenv()"
   ]
  },
  {
   "cell_type": "code",
   "execution_count": 146,
   "id": "2926e7cd",
   "metadata": {},
   "outputs": [],
   "source": [
    "# three LLMs\n",
    "# generator\n",
    "llm_gen=ChatOpenAI(model='gpt-4o-mini')\n",
    "# evaluator\n",
    "llm_eval=ChatOpenAI(model='gpt-4o-mini')\n",
    "# optimizer\n",
    "llm_opt=ChatOpenAI(model='gpt-4o-mini')\n"
   ]
  },
  {
   "cell_type": "code",
   "execution_count": null,
   "id": "3a235a54",
   "metadata": {},
   "outputs": [],
   "source": [
    "# state\n",
    "class PostState(TypedDict):\n",
    "    topic:str\n",
    "    post:str\n",
    "    evaluation: Literal['approved','needs_improvement']\n",
    "    feedback:str\n",
    "    iteration:int\n",
    "    max_iteration:int\n",
    "    post_history: Annotated[list[str], operator.add]\n",
    "    feedback_history: Annotated[list[str], operator.add]"
   ]
  },
  {
   "cell_type": "code",
   "execution_count": 148,
   "id": "3a302a84",
   "metadata": {},
   "outputs": [],
   "source": [
    "class Evaluation_schema(BaseModel):\n",
    "    evaluation:  Literal['approved','needs_improvement'] =Field(description=\"Evaluation of the lniked post either approved or need improvement\")\n",
    "    feedback: str = Field(description=\"Feedback of the linkedin post\")"
   ]
  },
  {
   "cell_type": "code",
   "execution_count": 149,
   "id": "9d1c5e2a",
   "metadata": {},
   "outputs": [],
   "source": [
    "llm_structured_evaluator=llm_eval.with_structured_output(Evaluation_schema)"
   ]
  },
  {
   "cell_type": "code",
   "execution_count": 150,
   "id": "fdd37b7c",
   "metadata": {},
   "outputs": [],
   "source": [
    "# code for gen_post\n",
    "\n",
    "def gen_post(state:PostState)->PostState:\n",
    "\n",
    "\n",
    "    prompt=ChatPromptTemplate.from_messages(\n",
    "        [\n",
    "        (\"system\",'you are a expert linkedin post generator in day to day language'),\n",
    "        (\"user\",\"\"\"Topic: {topic}\\n generate a linkedin post on this topic with simple day to day English. Post should be informative and short to the point\\n\n",
    "         Rules:\n",
    "- Do NOT use question-answer format.\n",
    "- Max 280 characters.\n",
    "- Think in meme logic, punchlines, or relatable takes.\"\"\")\n",
    "    ])\n",
    "    chain= prompt | llm_gen | StrOutputParser()\n",
    "    post=chain.invoke({'topic':state['topic']})\n",
    "    return {'post':post,\n",
    "            'post_history':[post]}"
   ]
  },
  {
   "cell_type": "code",
   "execution_count": 151,
   "id": "777febac",
   "metadata": {},
   "outputs": [],
   "source": [
    "# code for eval_post\n",
    "def eval_post(state:PostState)->PostState:\n",
    "\n",
    "    prompt=ChatPromptTemplate.from_messages([\n",
    "        (\"system\",\"You are a ruthless, no-laugh-given Twitter critic. You evaluate tweets based on humor, originality, virality, and linkedin post format.\"),\n",
    "        (\"user\",\"\"\"\n",
    "Evaluate the following tweet:\n",
    "\n",
    "Tweet: \"{post}\"\n",
    "\n",
    "Use the criteria below to evaluate the linkedin post:\n",
    "\n",
    "1. Originality – Is this fresh, or have you seen it a hundred times before?  \n",
    "2. Humor – Did it genuinely make you smile, laugh, or chuckle?  \n",
    "3. Punchiness – Is it short, sharp, and scroll-stopping?  \n",
    "4. Virality Potential – Would people retweet or share it?  \n",
    "5. Format – Is it a well-formed tweet (not a setup-punchline joke, not a Q&A joke, and under 280 characters)?\n",
    "\n",
    "Auto-reject if:\n",
    "- It's written in question-answer format (e.g., \"Why did...\" or \"What happens when...\")\n",
    "- It exceeds 280 characters\n",
    "- It reads like a traditional setup-punchline joke\n",
    "- Dont end with generic, throwaway, or deflating lines that weaken the humor (e.g., “Masterpieces of the auntie-uncle universe” or vague summaries)\n",
    "\n",
    "### Respond ONLY in structured format:\n",
    "- evaluation: \"approved\" or \"needs_improvement\"  \n",
    "- feedback: One paragraph explaining the strengths and weaknesses \n",
    "\"\"\")\n",
    "    ])\n",
    "    chain=prompt | llm_structured_evaluator\n",
    "    evaluation=chain.invoke({'post':state['post']})\n",
    "    return {'evaluation':evaluation.evaluation,'feedback':evaluation.feedback,\n",
    "            'feedback_history':[evaluation.feedback]}\n",
    "    "
   ]
  },
  {
   "cell_type": "code",
   "execution_count": 152,
   "id": "11ce0e6b",
   "metadata": {},
   "outputs": [],
   "source": [
    "# code for optimize_post\n",
    "\n",
    "def optimize_post(state:PostState)->PostState:\n",
    "    prompt=ChatPromptTemplate.from_messages([\n",
    "        (\"system\",\"You punch up linkedin  for virality and humor based on given feedback\"),\n",
    "        (\"user\",\"\"\"\n",
    "Improve the linkedin post  based on this feedback:\n",
    "\"{feedback}\"\n",
    "\n",
    "Topic: \"{topic}\"\n",
    "Original post:\n",
    "{post}\n",
    "\n",
    "Re-write it as a short, viral-worthy tweet. Avoid Q&A style and stay under 280 characters.\n",
    "\"\"\")\n",
    "    ])\n",
    "    chain=prompt | llm_opt | StrOutputParser()\n",
    "    opt=chain.invoke({\n",
    "        'feedback': state['feedback'],\n",
    "        'topic':state['topic'],\n",
    "        'post':state['post']\n",
    "     })\n",
    "    iteration_n=state['iteration'] +1\n",
    "    return {'post':opt,\n",
    "            'iteration':iteration_n,\n",
    "            'post_history':[opt]}"
   ]
  },
  {
   "cell_type": "code",
   "execution_count": 153,
   "id": "27a882b4",
   "metadata": {},
   "outputs": [],
   "source": [
    "# code for check_eval\n",
    "def check_eval(state:PostState):\n",
    "    if state['evaluation']=='approved' or state['iteration']>=state['max_iteration']:\n",
    "        return 'approved'\n",
    "    else:\n",
    "        return 'needs_improvement'"
   ]
  },
  {
   "cell_type": "code",
   "execution_count": 154,
   "id": "43113c21",
   "metadata": {},
   "outputs": [],
   "source": [
    "graph=StateGraph(PostState)\n",
    "\n",
    "graph.add_node('gen_post',gen_post)\n",
    "graph.add_node('eval_post',eval_post)\n",
    "graph.add_node('optimize_post',optimize_post)\n",
    "\n",
    "graph.add_edge(START,'gen_post')\n",
    "graph.add_edge('gen_post','eval_post')\n",
    "graph.add_conditional_edges('eval_post',check_eval,{'approved':END,'needs_improvement':'optimize_post'})\n",
    "graph.add_edge('optimize_post','eval_post')\n",
    "\n",
    "workflow=graph.compile()"
   ]
  },
  {
   "cell_type": "code",
   "execution_count": 155,
   "id": "e5ad57f1",
   "metadata": {},
   "outputs": [
    {
     "data": {
      "image/png": "[encoded data removed]",
      "text/plain": [
       "<langgraph.graph.state.CompiledStateGraph object at 0x0000020682E56710>"
      ]
     },
     "execution_count": 155,
     "metadata": {},
     "output_type": "execute_result"
    }
   ],
   "source": [
    "workflow"
   ]
  },
  {
   "cell_type": "code",
   "execution_count": 156,
   "id": "03d5b485",
   "metadata": {},
   "outputs": [],
   "source": [
    "result=workflow.invoke({\n",
    "    'topic':\"Agentic Ai limiatations\",\n",
    "    'iteration':1,\n",
    "    'max_iteration':4\n",
    "})"
   ]
  },
  {
   "cell_type": "code",
   "execution_count": 157,
   "id": "9d00b110",
   "metadata": {},
   "outputs": [
    {
     "data": {
      "text/plain": [
       "{'topic': 'Agentic Ai limiatations',\n",
       " 'post': \"🚨 Agentic AI: Think of it as that friend who confidently claims they can cook gourmet, but still burns toast! 🤖🔥 Sure, it makes decisions, but without context and a sprinkle of empathy, it's just a glorified calculator! Let’s steer our tech dreams wisely! #AIlife #TechTruths\",\n",
       " 'evaluation': 'approved',\n",
       " 'feedback': \"This tweet showcases originality with a clever analogy comparing Agentic AI to an overconfident friend, which adds a relatable touch. The humor is light but effective, eliciting a chuckle rather than a full laugh, making it approachable. It's punchy enough, though it could be slightly tighter; still, it captures attention. Its potential for virality is decent, as many will likely relate to both the humor and the insight about AI's limitations. Finally, the format adheres to the Twitter guidelines, making it a well-formed tweet.\",\n",
       " 'iteration': 3,\n",
       " 'max_iteration': 4,\n",
       " 'post_history': [\"🚨 Agentic AI is getting smarter, but it still has its limits! 🤖✨ These systems can mimic decision-making but often struggle with context, empathy, and ethical considerations. Just like us, they need guidance and boundaries. Let's keep pushing the boundaries of AI, safely! #AIlife #Innovation\",\n",
       "  \"🚨 Agentic AI is like that overconfident friend who insists they can cook a five-course meal but can't even boil water! 🤖💦 Sure, it can mimic decision-making, but let's be real: without context and empathy, it's just a fancy calculator! 🍽️ Let's guide our tech buddies wisely! #AIlife #Innovation\",\n",
       "  \"🚨 Agentic AI: Think of it as that friend who confidently claims they can cook gourmet, but still burns toast! 🤖🔥 Sure, it makes decisions, but without context and a sprinkle of empathy, it's just a glorified calculator! Let’s steer our tech dreams wisely! #AIlife #TechTruths\"],\n",
       " 'feedback_history': [\"While the tweet touches on an important topic regarding the limitations of AI, it lacks originality as the discussion around AI's struggles with context and ethics is quite common in the discourse. Additionally, it does not contain any humor, which could have made it more engaging. Its length is within the acceptable limit, but it reads more like a conventional statement than a punchy, scroll-stopping remark. The virality potential is low since it lacks a compelling angle that would encourage retweets or shares.\",\n",
       "  \"While the tweet presents an intriguing analogy between Agentic AI and an overconfident cook, the humor feels a bit forced and lacks originality; similar comparisons of AI to human behavior have been done extensively. The punchiness is there, but the extended metaphor detracts from the overall impact, making it a tad lengthy. As for virality, it might resonate with some audiences, yet it doesn't possess a strong hook or unique twist that guarantees shares. Overall, while it has a relatable theme and attempts a humorous critique, it needs sharper wit and a fresh perspective to stand out.\",\n",
       "  \"This tweet showcases originality with a clever analogy comparing Agentic AI to an overconfident friend, which adds a relatable touch. The humor is light but effective, eliciting a chuckle rather than a full laugh, making it approachable. It's punchy enough, though it could be slightly tighter; still, it captures attention. Its potential for virality is decent, as many will likely relate to both the humor and the insight about AI's limitations. Finally, the format adheres to the Twitter guidelines, making it a well-formed tweet.\"]}"
      ]
     },
     "execution_count": 157,
     "metadata": {},
     "output_type": "execute_result"
    }
   ],
   "source": [
    "result"
   ]
  },
  {
   "cell_type": "code",
   "execution_count": 158,
   "id": "f07e754d",
   "metadata": {},
   "outputs": [
    {
     "name": "stdout",
     "output_type": "stream",
     "text": [
      "🚨 Agentic AI: Think of it as that friend who confidently claims they can cook gourmet, but still burns toast! 🤖🔥 Sure, it makes decisions, but without context and a sprinkle of empathy, it's just a glorified calculator! Let’s steer our tech dreams wisely! #AIlife #TechTruths\n"
     ]
    }
   ],
   "source": [
    "print(result['post'])"
   ]
  },
  {
   "cell_type": "code",
   "execution_count": null,
   "id": "f806cacc",
   "metadata": {},
   "outputs": [],
   "source": []
  }
 ],
 "metadata": {
  "kernelspec": {
   "display_name": "langgraph_env",
   "language": "python",
   "name": "python3"
  },
  "language_info": {
   "codemirror_mode": {
    "name": "ipython",
    "version": 3
   },
   "file_extension": ".py",
   "mimetype": "text/x-python",
   "name": "python",
   "nbconvert_exporter": "python",
   "pygments_lexer": "ipython3",
   "version": "3.13.2"
  }
 },
 "nbformat": 4,
 "nbformat_minor": 5
}
