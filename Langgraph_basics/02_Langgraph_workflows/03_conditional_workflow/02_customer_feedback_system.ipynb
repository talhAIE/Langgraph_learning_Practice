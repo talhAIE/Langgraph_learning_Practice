{
 "cells": [
  {
   "cell_type": "markdown",
   "id": "e0bce915",
   "metadata": {},
   "source": [
    "# Customer Feed back System\n",
    "- find sentiment\n",
    "- dignose it \n",
    "- response it \n"
   ]
  },
  {
   "cell_type": "code",
   "execution_count": 42,
   "id": "94c0077c",
   "metadata": {},
   "outputs": [
    {
     "data": {
      "text/plain": [
       "True"
      ]
     },
     "execution_count": 42,
     "metadata": {},
     "output_type": "execute_result"
    }
   ],
   "source": [
    "from langgraph.graph import StateGraph, START, END\n",
    "from typing import TypedDict, Literal\n",
    "from langchain_openai import ChatOpenAI\n",
    "from pydantic import BaseModel, Field\n",
    "from langchain_core.prompts import PromptTemplate\n",
    "from dotenv import load_dotenv\n",
    "load_dotenv()"
   ]
  },
  {
   "cell_type": "code",
   "execution_count": 43,
   "id": "35530c86",
   "metadata": {},
   "outputs": [],
   "source": [
    "llm=ChatOpenAI(\n",
    "    model='gpt-4o-mini'\n",
    ")"
   ]
  },
  {
   "cell_type": "code",
   "execution_count": 44,
   "id": "0855644e",
   "metadata": {},
   "outputs": [],
   "source": [
    "# schemas to get structured output\n",
    "# schema for sentiment\n",
    "class SentimentSchema(BaseModel):\n",
    "    sentiment: Literal['positive','negative'] = Field(description=\"Sentiment of the Review\")\n",
    "\n",
    "# schema for diagnose issue\n",
    "class DiagnoseSchema(BaseModel):\n",
    "    issue_type: Literal[\"UX\", \"Performance\", \"Bug\", \"Support\", \"Other\"] = Field(description='The category of issue mentioned in the review')\n",
    "    tone: Literal[\"angry\", \"frustrated\", \"disappointed\", \"calm\"] = Field(description='The emotional tone expressed by the user')\n",
    "    urgency: Literal[\"low\", \"medium\", \"high\"] = Field(description='How urgent or critical the issue appears to be')"
   ]
  },
  {
   "cell_type": "code",
   "execution_count": 45,
   "id": "0443c317",
   "metadata": {},
   "outputs": [],
   "source": [
    "# structured llm\n",
    "# for sentiment\n",
    "llm_sentiment=llm.with_structured_output(SentimentSchema)\n",
    "# for diagnose\n",
    "llm_diagnose=llm.with_structured_output(DiagnoseSchema)"
   ]
  },
  {
   "cell_type": "code",
   "execution_count": 46,
   "id": "2c5b1084",
   "metadata": {},
   "outputs": [],
   "source": [
    "# first create state\n",
    "class ReviewState(TypedDict):\n",
    "\n",
    "    review: str\n",
    "    sentiment: Literal['positive','negative']\n",
    "    diagnose:dict\n",
    "    response:str\n"
   ]
  },
  {
   "cell_type": "code",
   "execution_count": 47,
   "id": "7dc1dcbe",
   "metadata": {},
   "outputs": [],
   "source": [
    "# code for get_sentiment\n",
    "def get_sentiment(state: ReviewState)->ReviewState:\n",
    "    review=state['review']\n",
    "    prompt=PromptTemplate.from_template(\n",
    "        \"Classify the following Review as positive or negative \\n Review: {review}\"\n",
    "    )\n",
    "    chain=prompt | llm_sentiment\n",
    "    sentiment=chain.invoke({'review':review})\n",
    "\n",
    "    return {'sentiment':sentiment}\n"
   ]
  },
  {
   "cell_type": "code",
   "execution_count": 48,
   "id": "e12cdc8d",
   "metadata": {},
   "outputs": [],
   "source": [
    "# check condition \n",
    "\n",
    "def check_condition(state: ReviewState)->Literal['positive_response','diagnose']:\n",
    "    if state['review']=='positive':\n",
    "        return 'positive_response'\n",
    "    else:\n",
    "        return 'diagnose'"
   ]
  },
  {
   "cell_type": "code",
   "execution_count": 49,
   "id": "5c31c012",
   "metadata": {},
   "outputs": [],
   "source": [
    "# code for positive_response\n",
    "\n",
    "def positive_response(state: ReviewState)->ReviewState:\n",
    "    prompt=PrompTemplate.from_template(\n",
    "        \"Write a positive response to the following positive review form customer say Thank you and ask for good review \\n review: {review}\"\n",
    "    )\n",
    "    chain=prompt | llm\n",
    "    pos_review=chain.invoke({'review':state['review']})\n",
    "    return {'response':pos_review}\n",
    "    "
   ]
  },
  {
   "cell_type": "code",
   "execution_count": 50,
   "id": "9a76a544",
   "metadata": {},
   "outputs": [],
   "source": [
    "# code for diagnose\n",
    "def diagnose(state: ReviewState)->ReviewState:\n",
    "    prompt=PromptTemplate.from_template(\n",
    "        \"Based on the following negative review return issue_type,tonie and urgency \\n review: {review}\"\n",
    "    )\n",
    "    chain=prompt | llm_diagnose\n",
    "    diagnose=chain.invoke({\n",
    "        'review':state['review']\n",
    "    })\n",
    "\n",
    "    return {'diagnose':diagnose.model_dump()}"
   ]
  },
  {
   "cell_type": "code",
   "execution_count": 51,
   "id": "d5452d14",
   "metadata": {},
   "outputs": [],
   "source": [
    "# code for negative_response\n",
    "\n",
    "def negative_response(state: ReviewState)->ReviewState:\n",
    "    diagnose=state['diagnose']\n",
    "    prompt=PromptTemplate.from_template(\n",
    "        \"User has negative response with issue type : {issue_type} \\n review tone : {tone} \\nand urgency : {urgency} based on these write a helpful feedback for the customer\"\n",
    "    )\n",
    "    chain=prompt | llm\n",
    "    neg_response=chain.invoke({\n",
    "        'issue_type':diagnose['issue_type'],\n",
    "        'tone':diagnose['tone'],\n",
    "        'urgency':diagnose['urgency']\n",
    "    })\n",
    "\n",
    "    return {'response':neg_response}"
   ]
  },
  {
   "cell_type": "code",
   "execution_count": 52,
   "id": "9ad80a9b",
   "metadata": {},
   "outputs": [],
   "source": [
    "graph=StateGraph(ReviewState)\n",
    "graph.add_node('get_sentiment',get_sentiment)\n",
    "graph.add_node('positive_response',positive_response)\n",
    "graph.add_node('diagnose',diagnose)\n",
    "graph.add_node('negative_response',negative_response)\n",
    "\n",
    "graph.add_edge(START,'get_sentiment')\n",
    "graph.add_conditional_edges('get_sentiment',check_condition)\n",
    "graph.add_edge('positive_response',END)\n",
    "graph.add_edge('diagnose','negative_response')\n",
    "graph.add_edge('negative_response',END)\n",
    "\n",
    "workflow=graph.compile()\n"
   ]
  },
  {
   "cell_type": "code",
   "execution_count": 53,
   "id": "11e04b85",
   "metadata": {},
   "outputs": [
    {
     "data": {
      "image/png": "[encoded data removed]",
      "text/plain": [
       "<langgraph.graph.state.CompiledStateGraph object at 0x000001F711F58910>"
      ]
     },
     "execution_count": 53,
     "metadata": {},
     "output_type": "execute_result"
    }
   ],
   "source": [
    "workflow\n"
   ]
  },
  {
   "cell_type": "code",
   "execution_count": 54,
   "id": "219afd73",
   "metadata": {},
   "outputs": [],
   "source": [
    "review='''I had high expectations, but unfortunately this experience was disappointing. The quality fell short in several areas. The explanations were unclear and inconsistent, making it difficult to follow along. On top of that, the results didn’t match what was promised, which left me frustrated. Communication could also have been better — questions often went unanswered or were addressed vaguely. Overall, it felt rushed and not well thought out. I wouldn’t recommend it unless these issues are fixed.'''"
   ]
  },
  {
   "cell_type": "code",
   "execution_count": 55,
   "id": "b215dfb1",
   "metadata": {},
   "outputs": [],
   "source": [
    "result=workflow.invoke({\n",
    "    'review':review\n",
    "})"
   ]
  },
  {
   "cell_type": "code",
   "execution_count": 57,
   "id": "14006666",
   "metadata": {},
   "outputs": [
    {
     "data": {
      "text/plain": [
       "{'review': 'I had high expectations, but unfortunately this experience was disappointing. The quality fell short in several areas. The explanations were unclear and inconsistent, making it difficult to follow along. On top of that, the results didn’t match what was promised, which left me frustrated. Communication could also have been better — questions often went unanswered or were addressed vaguely. Overall, it felt rushed and not well thought out. I wouldn’t recommend it unless these issues are fixed.',\n",
       " 'sentiment': SentimentSchema(sentiment='negative'),\n",
       " 'diagnose': {'issue_type': 'UX', 'tone': 'frustrated', 'urgency': 'medium'},\n",
       " 'response': AIMessage(content=\"Subject: We're Here to Help with Your UX Concerns\\n\\nDear [Customer's Name],\\n\\nThank you for reaching out and sharing your feedback regarding your recent experience with our [product/service]. We sincerely apologize for the frustration this has caused you. \\n\\nUnderstanding your concerns about the user experience is very important to us, and we want to assure you that we take these matters seriously. To help us address your issues effectively, could you please provide more specific details about what you found frustrating? Whether it's navigation challenges, functionality issues, or any particular aspect of the design, your input will be invaluable in helping us improve.\\n\\nIn the meantime, here are a few steps you can take that may alleviate some of your concerns:\\n\\n1. **Check our Help Center:** We have a range of resources that might assist you with specific features or functionalities.\\n  \\n2. **User Guides and Tutorials:** Sometimes, a little guidance can go a long way. If you haven't yet, please check our tutorials that may clarify some of the functionality.\\n\\n3. **Direct Communication:** If you're comfortable, I'm here to discuss this further via email or a quick call to address your concerns more directly.\\n\\nYour input is vital in improving our user experience, and we truly appreciate your patience as we work on this. Thank you once again for bringing this to our attention. We look forward to hearing from you soon, and to resolving your concerns satisfactorily.\\n\\nBest regards,\\n\\n[Your Name]  \\n[Your Position]  \\n[Company Name]  \\n[Contact Information]  \", additional_kwargs={'refusal': None}, response_metadata={'token_usage': {'completion_tokens': 305, 'prompt_tokens': 36, 'total_tokens': 341, 'completion_tokens_details': {'accepted_prediction_tokens': 0, 'audio_tokens': 0, 'reasoning_tokens': 0, 'rejected_prediction_tokens': 0}, 'prompt_tokens_details': {'audio_tokens': 0, 'cached_tokens': 0}}, 'model_name': 'gpt-4o-mini-2024-07-18', 'system_fingerprint': 'fp_8bda4d3a2c', 'id': 'chatcmpl-CCP7IAfwFWcGZC1grEBEuVlsfg3lJ', 'service_tier': 'default', 'finish_reason': 'stop', 'logprobs': None}, id='run--31c6ec95-0748-4169-ab5c-39de5bb2069f-0', usage_metadata={'input_tokens': 36, 'output_tokens': 305, 'total_tokens': 341, 'input_token_details': {'audio': 0, 'cache_read': 0}, 'output_token_details': {'audio': 0, 'reasoning': 0}})}"
      ]
     },
     "execution_count": 57,
     "metadata": {},
     "output_type": "execute_result"
    }
   ],
   "source": [
    "result"
   ]
  },
  {
   "cell_type": "code",
   "execution_count": 60,
   "id": "5c8e22a1",
   "metadata": {},
   "outputs": [
    {
     "name": "stdout",
     "output_type": "stream",
     "text": [
      "Subject: We're Here to Help with Your UX Concerns\n",
      "\n",
      "Dear [Customer's Name],\n",
      "\n",
      "Thank you for reaching out and sharing your feedback regarding your recent experience with our [product/service]. We sincerely apologize for the frustration this has caused you. \n",
      "\n",
      "Understanding your concerns about the user experience is very important to us, and we want to assure you that we take these matters seriously. To help us address your issues effectively, could you please provide more specific details about what you found frustrating? Whether it's navigation challenges, functionality issues, or any particular aspect of the design, your input will be invaluable in helping us improve.\n",
      "\n",
      "In the meantime, here are a few steps you can take that may alleviate some of your concerns:\n",
      "\n",
      "1. **Check our Help Center:** We have a range of resources that might assist you with specific features or functionalities.\n",
      "  \n",
      "2. **User Guides and Tutorials:** Sometimes, a little guidance can go a long way. If you haven't yet, please check our tutorials that may clarify some of the functionality.\n",
      "\n",
      "3. **Direct Communication:** If you're comfortable, I'm here to discuss this further via email or a quick call to address your concerns more directly.\n",
      "\n",
      "Your input is vital in improving our user experience, and we truly appreciate your patience as we work on this. Thank you once again for bringing this to our attention. We look forward to hearing from you soon, and to resolving your concerns satisfactorily.\n",
      "\n",
      "Best regards,\n",
      "\n",
      "[Your Name]  \n",
      "[Your Position]  \n",
      "[Company Name]  \n",
      "[Contact Information]  \n"
     ]
    }
   ],
   "source": [
    "print(result['response'].content)"
   ]
  },
  {
   "cell_type": "code",
   "execution_count": null,
   "id": "fc835425",
   "metadata": {},
   "outputs": [],
   "source": []
  }
 ],
 "metadata": {
  "kernelspec": {
   "display_name": "langgraph_env",
   "language": "python",
   "name": "python3"
  },
  "language_info": {
   "codemirror_mode": {
    "name": "ipython",
    "version": 3
   },
   "file_extension": ".py",
   "mimetype": "text/x-python",
   "name": "python",
   "nbconvert_exporter": "python",
   "pygments_lexer": "ipython3",
   "version": "3.13.2"
  }
 },
 "nbformat": 4,
 "nbformat_minor": 5
}
