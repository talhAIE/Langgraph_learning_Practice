{
 "cells": [
  {
   "cell_type": "markdown",
   "id": "3ac1c76e",
   "metadata": {},
   "source": [
    "# Squential workflow with prompt chaining\n"
   ]
  },
  {
   "cell_type": "code",
   "execution_count": 31,
   "id": "138517f3",
   "metadata": {},
   "outputs": [
    {
     "data": {
      "text/plain": [
       "True"
      ]
     },
     "execution_count": 31,
     "metadata": {},
     "output_type": "execute_result"
    }
   ],
   "source": [
    "from langchain_openai import ChatOpenAI\n",
    "from typing import TypedDict\n",
    "from langgraph.graph import StateGraph,START,END\n",
    "from dotenv import load_dotenv\n",
    "from langchain_core.prompts import PromptTemplate\n",
    "from langchain_core.output_parsers import StrOutputParser\n",
    "\n",
    "load_dotenv()\n"
   ]
  },
  {
   "cell_type": "code",
   "execution_count": 32,
   "id": "27922980",
   "metadata": {},
   "outputs": [],
   "source": [
    "llm=ChatOpenAI()"
   ]
  },
  {
   "cell_type": "code",
   "execution_count": 33,
   "id": "1b55f03e",
   "metadata": {},
   "outputs": [],
   "source": [
    "class BLOGState(TypedDict):\n",
    "    title: str\n",
    "    outline: str\n",
    "    blog: str\n",
    "    evaluation: str"
   ]
  },
  {
   "cell_type": "code",
   "execution_count": 34,
   "id": "5d8e641d",
   "metadata": {},
   "outputs": [],
   "source": [
    "# code for gen_outline\n",
    "\n",
    "def gen_outline(state: BLOGState)->BLOGState:\n",
    "\n",
    "    title=state['title']\n",
    "    \n",
    "    prompt=PromptTemplate.from_template(\n",
    "        '''create small outline of the blog for title {title} '''\n",
    "    )\n",
    "\n",
    "    chain= prompt | llm | StrOutputParser()\n",
    "    outline=chain.invoke({'title':title})\n",
    "\n",
    "    state['outline']=outline\n",
    "    return state\n"
   ]
  },
  {
   "cell_type": "code",
   "execution_count": 35,
   "id": "ebde03d0",
   "metadata": {},
   "outputs": [],
   "source": [
    "# code for gen_blog\n",
    "\n",
    "def gen_blog(state: BLOGState)->BLOGState:\n",
    "    title=state['title']\n",
    "    outline=state['outline']\n",
    "    prompt=PromptTemplate.from_template(\"write a small blog on {title} based on outline {outline}\")\n",
    "    chain = prompt | llm | StrOutputParser()\n",
    "    blog=chain.invoke({'title':title,'outline':outline})\n",
    "    state['blog']=blog\n",
    "    return state"
   ]
  },
  {
   "cell_type": "code",
   "execution_count": 36,
   "id": "0c1d9757",
   "metadata": {},
   "outputs": [],
   "source": [
    "# code for evaluate_blog\n",
    "def evaluate_blog(state: BLOGState)->BLOGState:\n",
    "    title=state['title']\n",
    "    outline=state['outline']\n",
    "    blog=state['blog']\n",
    "    prompt=PromptTemplate.from_template(\n",
    "        \"On this title {title} and based on outline rate my blog out of 10 and give opinion in 1 line<{blog}>\"\n",
    "    )\n",
    "    chain= prompt | llm |StrOutputParser()\n",
    "    evaluation=chain.invoke({'title':title,'outline':outline,'blog':blog})\n",
    "    state['evaluation']=evaluation\n",
    "    return state"
   ]
  },
  {
   "cell_type": "code",
   "execution_count": 37,
   "id": "855dff2c",
   "metadata": {},
   "outputs": [],
   "source": [
    "graph=StateGraph(BLOGState)\n",
    "\n",
    "graph.add_node('gen_outline',gen_outline)\n",
    "graph.add_node('gen_blog',gen_blog)\n",
    "graph.add_node('evaluate_blog',evaluate_blog\n",
    ")\n",
    "\n",
    "graph.add_edge(START,'gen_outline')\n",
    "graph.add_edge('gen_outline','gen_blog')\n",
    "graph.add_edge('gen_blog','evaluate_blog')\n",
    "graph.add_edge('evaluate_blog',END)\n",
    "\n",
    "workflow=graph.compile()\n",
    "\n"
   ]
  },
  {
   "cell_type": "code",
   "execution_count": 38,
   "id": "8b34cb50",
   "metadata": {},
   "outputs": [
    {
     "data": {
      "image/png": "[encoded data removed]",
      "text/plain": [
       "<langgraph.graph.state.CompiledStateGraph object at 0x000001C02E667750>"
      ]
     },
     "execution_count": 38,
     "metadata": {},
     "output_type": "execute_result"
    }
   ],
   "source": [
    "workflow"
   ]
  },
  {
   "cell_type": "code",
   "execution_count": 39,
   "id": "80d3ecf2",
   "metadata": {},
   "outputs": [],
   "source": [
    "# execute\n",
    "\n",
    "result=workflow.invoke({'title':'langgraph'})"
   ]
  },
  {
   "cell_type": "code",
   "execution_count": 40,
   "id": "a9f27f40",
   "metadata": {},
   "outputs": [
    {
     "data": {
      "text/plain": [
       "{'title': 'langgraph',\n",
       " 'outline': 'I. Introduction \\n    A. Explanation of the importance of using title language in a blog \\nII. What is title language?\\n    A. Definition and purpose of title language\\nIII. Tips for effective title language \\n    A. Use of keywords\\n    B. Keep it concise and to the point\\n    C. Make it engaging and enticing\\nIV. Examples of successful title language \\n    A. Analysis of popular blogs and their titles\\nV. Conclusion \\n    A. Recap of the importance of using title language in a blog',\n",
       " 'blog': \"In the world of blogging, the title language you choose for your posts plays a crucial role in capturing the attention of your audience and enticing them to read further. Title language is the first impression your readers will have of your blog, so it's important to make it engaging and compelling. In this blog, we'll explore the importance of using title language effectively, what title language is, and provide some tips and examples for creating successful titles.\\n\\nTitle language is the language used in the titles of your blog posts. It serves several purposes, including grabbing the attention of your readers, conveying the main topic or message of your post, and improving your blog's search engine optimization (SEO). A well-crafted title can make a significant difference in the success of your blog post.\\n\\nWhen creating title language, it's important to consider a few key tips for effectiveness. Firstly, using relevant keywords in your title can help improve your post's visibility in search engines. Secondly, keeping your title concise and to the point will appeal to readers who are looking for quick and easy to digest information. Finally, making your title engaging and enticing will draw readers in and make them want to click on your post to learn more.\\n\\nTo illustrate the power of effective title language, let's analyze some examples of successful titles from popular blogs. By examining what made these titles stand out, we can learn valuable lessons for creating our own attention-grabbing titles.\\n\\nIn conclusion, using title language effectively is essential for the success of your blog. By following the tips outlined in this blog and studying successful examples, you can create titles that will attract readers and drive engagement with your content. Remember, your title is often the first impression you make on your audience, so make it count.\",\n",
       " 'evaluation': 'I would rate this blog a 9/10. The information provided is valuable and the tips are practical for bloggers looking to improve their title language.'}"
      ]
     },
     "execution_count": 40,
     "metadata": {},
     "output_type": "execute_result"
    }
   ],
   "source": [
    "result"
   ]
  },
  {
   "cell_type": "code",
   "execution_count": 41,
   "id": "2d7e1527",
   "metadata": {},
   "outputs": [
    {
     "name": "stdout",
     "output_type": "stream",
     "text": [
      "I. Introduction \n",
      "    A. Explanation of the importance of using title language in a blog \n",
      "II. What is title language?\n",
      "    A. Definition and purpose of title language\n",
      "III. Tips for effective title language \n",
      "    A. Use of keywords\n",
      "    B. Keep it concise and to the point\n",
      "    C. Make it engaging and enticing\n",
      "IV. Examples of successful title language \n",
      "    A. Analysis of popular blogs and their titles\n",
      "V. Conclusion \n",
      "    A. Recap of the importance of using title language in a blog\n"
     ]
    }
   ],
   "source": [
    "print(result['outline'])"
   ]
  },
  {
   "cell_type": "code",
   "execution_count": 42,
   "id": "d5605b81",
   "metadata": {},
   "outputs": [
    {
     "name": "stdout",
     "output_type": "stream",
     "text": [
      "In the world of blogging, the title language you choose for your posts plays a crucial role in capturing the attention of your audience and enticing them to read further. Title language is the first impression your readers will have of your blog, so it's important to make it engaging and compelling. In this blog, we'll explore the importance of using title language effectively, what title language is, and provide some tips and examples for creating successful titles.\n",
      "\n",
      "Title language is the language used in the titles of your blog posts. It serves several purposes, including grabbing the attention of your readers, conveying the main topic or message of your post, and improving your blog's search engine optimization (SEO). A well-crafted title can make a significant difference in the success of your blog post.\n",
      "\n",
      "When creating title language, it's important to consider a few key tips for effectiveness. Firstly, using relevant keywords in your title can help improve your post's visibility in search engines. Secondly, keeping your title concise and to the point will appeal to readers who are looking for quick and easy to digest information. Finally, making your title engaging and enticing will draw readers in and make them want to click on your post to learn more.\n",
      "\n",
      "To illustrate the power of effective title language, let's analyze some examples of successful titles from popular blogs. By examining what made these titles stand out, we can learn valuable lessons for creating our own attention-grabbing titles.\n",
      "\n",
      "In conclusion, using title language effectively is essential for the success of your blog. By following the tips outlined in this blog and studying successful examples, you can create titles that will attract readers and drive engagement with your content. Remember, your title is often the first impression you make on your audience, so make it count.\n"
     ]
    }
   ],
   "source": [
    "print(result['blog'])"
   ]
  },
  {
   "cell_type": "code",
   "execution_count": 43,
   "id": "92f1e8a8",
   "metadata": {},
   "outputs": [
    {
     "name": "stdout",
     "output_type": "stream",
     "text": [
      "I would rate this blog a 9/10. The information provided is valuable and the tips are practical for bloggers looking to improve their title language.\n"
     ]
    }
   ],
   "source": [
    "print(result['evaluation'])"
   ]
  },
  {
   "cell_type": "code",
   "execution_count": null,
   "id": "1fa36e78",
   "metadata": {},
   "outputs": [],
   "source": []
  }
 ],
 "metadata": {
  "kernelspec": {
   "display_name": "langgraph_env",
   "language": "python",
   "name": "python3"
  },
  "language_info": {
   "codemirror_mode": {
    "name": "ipython",
    "version": 3
   },
   "file_extension": ".py",
   "mimetype": "text/x-python",
   "name": "python",
   "nbconvert_exporter": "python",
   "pygments_lexer": "ipython3",
   "version": "3.13.2"
  }
 },
 "nbformat": 4,
 "nbformat_minor": 5
}
