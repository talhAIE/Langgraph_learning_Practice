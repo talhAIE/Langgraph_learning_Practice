{
 "cells": [
  {
   "cell_type": "markdown",
   "id": "866cbd44",
   "metadata": {},
   "source": [
    "# LLM Sequential Workflow"
   ]
  },
  {
   "cell_type": "code",
   "execution_count": 55,
   "id": "0ea2b3ed",
   "metadata": {},
   "outputs": [
    {
     "data": {
      "text/plain": [
       "True"
      ]
     },
     "execution_count": 55,
     "metadata": {},
     "output_type": "execute_result"
    }
   ],
   "source": [
    "from langchain_openai import ChatOpenAI\n",
    "from typing import TypedDict\n",
    "from langgraph.graph import StateGraph,START,END\n",
    "from dotenv import load_dotenv\n",
    "from langchain_core.prompts import PromptTemplate\n",
    "from langchain_core.output_parsers import StrOutputParser\n",
    "\n",
    "load_dotenv()\n"
   ]
  },
  {
   "cell_type": "code",
   "execution_count": 56,
   "id": "0ff2041c",
   "metadata": {},
   "outputs": [],
   "source": [
    "llm=ChatOpenAI()"
   ]
  },
  {
   "cell_type": "code",
   "execution_count": 57,
   "id": "949e1e75",
   "metadata": {},
   "outputs": [],
   "source": [
    "# State\n",
    "\n",
    "class LLM_state(TypedDict):\n",
    "    question: str\n",
    "    answer:str"
   ]
  },
  {
   "cell_type": "code",
   "execution_count": 58,
   "id": "bf3ce910",
   "metadata": {},
   "outputs": [],
   "source": [
    "# function to take response from llm\n",
    "def llm_qa(state: LLM_state)->LLM_state:\n",
    "    question=state['question']\n",
    "    prompt=PromptTemplate(\n",
    "        template='Answer the following question {question}',\n",
    "        input_variables=['quesiton']\n",
    "    )\n",
    "\n",
    "    chain= prompt | llm |StrOutputParser()\n",
    "    answer=chain.invoke({'question':question})\n",
    "    state['answer']=answer\n",
    "    return state"
   ]
  },
  {
   "cell_type": "code",
   "execution_count": 59,
   "id": "6d7012e2",
   "metadata": {},
   "outputs": [],
   "source": [
    "# graph\n",
    "graph=StateGraph(LLM_state)\n",
    "# add nodes\n",
    "graph.add_node('llm_qa',llm_qa)\n",
    "# add edges\n",
    "graph.add_edge(START,'llm_qa')\n",
    "graph.add_edge('llm_qa',END)\n",
    "# compile\n",
    "workflow=graph.compile()\n"
   ]
  },
  {
   "cell_type": "code",
   "execution_count": 60,
   "id": "64893a36",
   "metadata": {},
   "outputs": [],
   "source": [
    "# execute\n",
    "result=workflow.invoke({'question':'tell me in short what is langgraph?'})"
   ]
  },
  {
   "cell_type": "code",
   "execution_count": 61,
   "id": "13bc98ac",
   "metadata": {},
   "outputs": [
    {
     "data": {
      "text/plain": [
       "{'question': 'tell me in short what is langgraph?',\n",
       " 'answer': 'Langgraph is a programming language that combines natural language processing with graph-based data structures to enable users to interact with data using natural language queries. It allows for more intuitive and user-friendly interactions with data compared to traditional programming languages.'}"
      ]
     },
     "execution_count": 61,
     "metadata": {},
     "output_type": "execute_result"
    }
   ],
   "source": [
    "result"
   ]
  },
  {
   "cell_type": "code",
   "execution_count": null,
   "id": "16d66704",
   "metadata": {},
   "outputs": [],
   "source": []
  }
 ],
 "metadata": {
  "kernelspec": {
   "display_name": "langgraph_env",
   "language": "python",
   "name": "python3"
  },
  "language_info": {
   "codemirror_mode": {
    "name": "ipython",
    "version": 3
   },
   "file_extension": ".py",
   "mimetype": "text/x-python",
   "name": "python",
   "nbconvert_exporter": "python",
   "pygments_lexer": "ipython3",
   "version": "3.13.2"
  }
 },
 "nbformat": 4,
 "nbformat_minor": 5
}
