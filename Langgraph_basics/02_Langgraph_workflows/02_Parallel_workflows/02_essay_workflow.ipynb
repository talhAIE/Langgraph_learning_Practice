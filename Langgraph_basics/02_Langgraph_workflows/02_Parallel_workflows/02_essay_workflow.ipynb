{
 "cells": [
  {
   "cell_type": "markdown",
   "id": "25de6e96",
   "metadata": {},
   "source": [
    "# Essay Workflow to check\n",
    "- Language calrity\n",
    "- calrity of thought\n",
    "- analysis\n"
   ]
  },
  {
   "cell_type": "code",
   "execution_count": 76,
   "id": "044bf61f",
   "metadata": {},
   "outputs": [
    {
     "data": {
      "text/plain": [
       "True"
      ]
     },
     "execution_count": 76,
     "metadata": {},
     "output_type": "execute_result"
    }
   ],
   "source": [
    "from langgraph.graph import StateGraph, START,END\n",
    "from langchain_openai import ChatOpenAI\n",
    "from typing import TypedDict,Annotated\n",
    "from pydantic import BaseModel, Field\n",
    "from dotenv import load_dotenv\n",
    "import operator\n",
    "from langchain_core.prompts import PromptTemplate\n",
    "from langchain_core.output_parsers import StrOutputParser\n",
    "load_dotenv()"
   ]
  },
  {
   "cell_type": "code",
   "execution_count": 77,
   "id": "1486092a",
   "metadata": {},
   "outputs": [],
   "source": [
    "# schema to get structured output\n",
    "class Schema(BaseModel):\n",
    "    feedback :str = Field(description=\"feedback for the essay\")\n",
    "    score: int = Field(description='Score out of 10',ge=0,le=10)"
   ]
  },
  {
   "cell_type": "code",
   "execution_count": null,
   "id": "4ff213c2",
   "metadata": {},
   "outputs": [],
   "source": [
    "llm=ChatOpenAI(model='gpt-4o-mini')\n",
    "llm_structure=llm.with_structured_output(Schema)"
   ]
  },
  {
   "cell_type": "code",
   "execution_count": 79,
   "id": "acdb8145",
   "metadata": {},
   "outputs": [],
   "source": [
    "essay=\"\"\"\"\"\"\n",
    "with open('essay.txt','r') as file:\n",
    "    essay=file.read()"
   ]
  },
  {
   "cell_type": "code",
   "execution_count": 80,
   "id": "510e3b5d",
   "metadata": {},
   "outputs": [
    {
     "data": {
      "text/plain": [
       "str"
      ]
     },
     "execution_count": 80,
     "metadata": {},
     "output_type": "execute_result"
    }
   ],
   "source": [
    "type(essay)"
   ]
  },
  {
   "cell_type": "code",
   "execution_count": 81,
   "id": "f391fd70",
   "metadata": {},
   "outputs": [
    {
     "data": {
      "text/plain": [
       "'Artificial Intelligence (AI) has rapidly advanced from simple rule-based systems to highly capable models that can understand, generate, and analyze complex information. One of the most promising developments in this field is Agentic AI. Unlike traditional AI, which mainly responds to inputs, Agentic AI is designed to take initiative, make decisions, and perform actions in a goal-directed manner.\\n\\nAgentic AI refers to AI systems that act like autonomous agents. These agents are not limited to answering questions or providing suggestions; instead, they can plan, reason, and interact with digital or physical environments to achieve objectives. For example, an Agentic AI can be given a business task such as analyzing customer feedback. Instead of just summarizing the data, the AI agent can decide which tools to use, gather additional information, create reports, and even suggest improvements for future strategies.\\n\\nThe key features of Agentic AI include autonomy, reasoning, and adaptability. Autonomy allows the system to operate without constant human guidance. Reasoning helps it break down problems into smaller steps, while adaptability ensures it can adjust its strategies when conditions change. These characteristics make Agentic AI valuable in many domains such as education, healthcare, productivity, and automation.\\n\\nHowever, Agentic AI also raises important challenges. Since these systems act independently, issues of trust, reliability, and ethics become critical. Ensuring that AI agents behave responsibly, respect human values, and remain under proper oversight is essential for their safe use.\\n\\nIn conclusion, Agentic AI represents the next stage in the evolution of artificial intelligence. By combining autonomy, reasoning, and adaptability, it has the potential to transform industries and everyday life. At the same time, careful development and regulation are needed to maximize its benefits while minimizing risks.'"
      ]
     },
     "execution_count": 81,
     "metadata": {},
     "output_type": "execute_result"
    }
   ],
   "source": [
    "essay"
   ]
  },
  {
   "cell_type": "code",
   "execution_count": 82,
   "id": "0f036d9d",
   "metadata": {},
   "outputs": [],
   "source": [
    "# create state\n",
    "class EssayState(TypedDict):\n",
    "    essay_text: str\n",
    "    cot_feedback: str\n",
    "    doa_feedback: str\n",
    "    lang_feedback: str\n",
    "    final_feedback:str\n",
    "    avg_score: float\n",
    "    individual_score: Annotated[list[int],operator.add]"
   ]
  },
  {
   "cell_type": "code",
   "execution_count": 83,
   "id": "b77ecd2d",
   "metadata": {},
   "outputs": [],
   "source": [
    "# code for evaluate_language\n",
    "\n",
    "def evaluate_language(state:EssayState)->EssayState:\n",
    "    essay=state['essay_text']\n",
    "    prompt=PromptTemplate.from_template(\n",
    "        '''Evaluate the language quality of the following essay and provide short feedback and score out of 10.\n",
    "        essay: \\n {essay}'''\n",
    "    )\n",
    "    chain= prompt | llm_structure\n",
    "    output=chain.invoke({\n",
    "        'essay':essay\n",
    "    })\n",
    "    return {\n",
    "        'lang_feedback':output.feedback,'individual_score':[output.score]\n",
    "    }"
   ]
  },
  {
   "cell_type": "code",
   "execution_count": 84,
   "id": "7f047ee3",
   "metadata": {},
   "outputs": [],
   "source": [
    "# code for evaluate_analysis\n",
    "def evaluate_analysis(state:EssayState)->EssayState:\n",
    "    essay=state['essay_text']\n",
    "    prompt=PromptTemplate.from_template(\n",
    "        '''Evaluate the analysis of the following essay and provide short feedback and score out of 10.\n",
    "        essay: \\n {essay}'''\n",
    "    )\n",
    "    chain= prompt | llm_structure\n",
    "    output=chain.invoke({\n",
    "        'essay':essay\n",
    "    })\n",
    "\n",
    "    return {\n",
    "        'doa_feedback':output.feedback,'individual_score':[output.score]\n",
    "    }"
   ]
  },
  {
   "cell_type": "code",
   "execution_count": 85,
   "id": "879e4ee9",
   "metadata": {},
   "outputs": [],
   "source": [
    "# code for evaluate_thought\n",
    "def evaluate_thought(state:EssayState)->EssayState:\n",
    "    essay=state['essay_text']\n",
    "    prompt=PromptTemplate.from_template(\n",
    "        '''Evaluate the clarity thought of the following essay and provide short feedback and score out of 10.\n",
    "        essay: \\n {essay}'''\n",
    "    )\n",
    "    chain= prompt | llm_structure\n",
    "    output=chain.invoke({\n",
    "        'essay':essay\n",
    "    })\n",
    "\n",
    "    return {\n",
    "        'cot_feedback':output.feedback,'individual_score':[output.score]\n",
    "    }"
   ]
  },
  {
   "cell_type": "code",
   "execution_count": 86,
   "id": "0db4ff07",
   "metadata": {},
   "outputs": [],
   "source": [
    "# code for final_feedback\n",
    "def final_feedback(state:EssayState)->EssayState:\n",
    "    evaluate_language=state['lang_feedback']\n",
    "    cot_feedback=state['cot_feedback']\n",
    "    dot_feedback=state['doa_feedback']\n",
    "    prompt=PromptTemplate.from_template(\"Based on the followig feedbakcs provide a summarized final feedback \\n language feedback :{evaluate_language} \\n clarity of thought feedback: {evaluate_language} \\n analysis feedback : {dot_feedback}\")\n",
    "    chain=prompt | llm |StrOutputParser()\n",
    "    final_feedback=chain.invoke({'evaluate_language':evaluate_language,\n",
    "                                 'cot_feedback':cot_feedback,\n",
    "                                 'dot_feedback':dot_feedback})\n",
    "    avg_score=sum(state['individual_score'])/len(state['individual_score'])\n",
    "    return {\n",
    "        'final_feedback':final_feedback,\n",
    "        'avg_score':avg_score\n",
    "    }"
   ]
  },
  {
   "cell_type": "code",
   "execution_count": 87,
   "id": "92576089",
   "metadata": {},
   "outputs": [],
   "source": [
    "graph=StateGraph(EssayState)\n",
    "\n",
    "graph.add_node('evaluate_language',evaluate_language)\n",
    "graph.add_node('evaluate_analysis',evaluate_analysis)\n",
    "graph.add_node('evaluate_thought',evaluate_thought)\n",
    "graph.add_node('final_feedback',final_feedback)\n",
    "\n",
    "graph.add_edge(START,'evaluate_language')\n",
    "graph.add_edge(START,'evaluate_analysis')\n",
    "graph.add_edge(START,'evaluate_thought')\n",
    "\n",
    "graph.add_edge('evaluate_language','final_feedback')\n",
    "graph.add_edge('evaluate_analysis','final_feedback')\n",
    "graph.add_edge('evaluate_thought','final_feedback')\n",
    "\n",
    "graph.add_edge('final_feedback',END)\n",
    "\n",
    "workflow=graph.compile()\n"
   ]
  },
  {
   "cell_type": "code",
   "execution_count": 88,
   "id": "eeef300b",
   "metadata": {},
   "outputs": [
    {
     "data": {
      "image/png": "[encoded data removed]",
      "text/plain": [
       "<langgraph.graph.state.CompiledStateGraph object at 0x0000018938B6EAD0>"
      ]
     },
     "execution_count": 88,
     "metadata": {},
     "output_type": "execute_result"
    }
   ],
   "source": [
    "workflow"
   ]
  },
  {
   "cell_type": "code",
   "execution_count": 89,
   "id": "39b2d050",
   "metadata": {},
   "outputs": [],
   "source": [
    "result=workflow.invoke({\n",
    "    'essay_text':essay\n",
    "})"
   ]
  },
  {
   "cell_type": "code",
   "execution_count": 90,
   "id": "1fe81914",
   "metadata": {},
   "outputs": [
    {
     "data": {
      "text/plain": [
       "{'essay_text': 'Artificial Intelligence (AI) has rapidly advanced from simple rule-based systems to highly capable models that can understand, generate, and analyze complex information. One of the most promising developments in this field is Agentic AI. Unlike traditional AI, which mainly responds to inputs, Agentic AI is designed to take initiative, make decisions, and perform actions in a goal-directed manner.\\n\\nAgentic AI refers to AI systems that act like autonomous agents. These agents are not limited to answering questions or providing suggestions; instead, they can plan, reason, and interact with digital or physical environments to achieve objectives. For example, an Agentic AI can be given a business task such as analyzing customer feedback. Instead of just summarizing the data, the AI agent can decide which tools to use, gather additional information, create reports, and even suggest improvements for future strategies.\\n\\nThe key features of Agentic AI include autonomy, reasoning, and adaptability. Autonomy allows the system to operate without constant human guidance. Reasoning helps it break down problems into smaller steps, while adaptability ensures it can adjust its strategies when conditions change. These characteristics make Agentic AI valuable in many domains such as education, healthcare, productivity, and automation.\\n\\nHowever, Agentic AI also raises important challenges. Since these systems act independently, issues of trust, reliability, and ethics become critical. Ensuring that AI agents behave responsibly, respect human values, and remain under proper oversight is essential for their safe use.\\n\\nIn conclusion, Agentic AI represents the next stage in the evolution of artificial intelligence. By combining autonomy, reasoning, and adaptability, it has the potential to transform industries and everyday life. At the same time, careful development and regulation are needed to maximize its benefits while minimizing risks.',\n",
       " 'cot_feedback': 'The essay provides a clear overview of Agentic AI, detailing its features and implications effectively. The structure is logical, with a good introduction, body, and conclusion. However, it could benefit from more examples to illustrate its points and a deeper discussion of ethical considerations. Overall, it maintains clarity and relevance but lacks depth in certain areas.',\n",
       " 'doa_feedback': 'The essay provides a clear and structured overview of Agentic AI, including its definition, capabilities, and challenges. The explanation of how Agentic AI differentiates from traditional AI is well-articulated, and examples help illustrate its practical applications. However, the discussion on challenges could be expanded with more depth on specific ethical concerns or potential regulations. Overall, the essay is informative but could benefit from more detailed exploration of its implications.',\n",
       " 'lang_feedback': 'The essay presents a clear and comprehensive overview of Agentic AI, highlighting its features, potential benefits, and challenges. The language is formal and well-structured, making it easy to follow. However, some areas could be enhanced by providing more specific examples or real-world applications of Agentic AI to illustrate its impact. Additionally, a deeper exploration of the ethical challenges and potential solutions would strengthen the discussion. Overall, the essay maintains good cohesion and coherence, but could benefit from more detailed analysis in certain sections.',\n",
       " 'final_feedback': '**Final Feedback Summary:**\\n\\nThe essay offers a clear and structured overview of Agentic AI, effectively outlining its features, benefits, and challenges. The formal language and well-organized presentation contribute to its coherence and ease of understanding. However, to enhance the analysis, it would be beneficial to include more specific examples or real-world applications to illustrate the impact of Agentic AI. Additionally, a deeper exploration of ethical challenges and potential regulations would strengthen the discussion, providing a more comprehensive understanding of the implications of this technology. Overall, while the essay is informative and maintains good cohesion, expanding on certain sections could enhance its depth and effectiveness.',\n",
       " 'avg_score': 7.333333333333333,\n",
       " 'individual_score': [7, 8, 7]}"
      ]
     },
     "execution_count": 90,
     "metadata": {},
     "output_type": "execute_result"
    }
   ],
   "source": [
    "result"
   ]
  },
  {
   "cell_type": "code",
   "execution_count": null,
   "id": "60fab377",
   "metadata": {},
   "outputs": [],
   "source": []
  }
 ],
 "metadata": {
  "kernelspec": {
   "display_name": "langgraph_env",
   "language": "python",
   "name": "python3"
  },
  "language_info": {
   "codemirror_mode": {
    "name": "ipython",
    "version": 3
   },
   "file_extension": ".py",
   "mimetype": "text/x-python",
   "name": "python",
   "nbconvert_exporter": "python",
   "pygments_lexer": "ipython3",
   "version": "3.13.2"
  }
 },
 "nbformat": 4,
 "nbformat_minor": 5
}
