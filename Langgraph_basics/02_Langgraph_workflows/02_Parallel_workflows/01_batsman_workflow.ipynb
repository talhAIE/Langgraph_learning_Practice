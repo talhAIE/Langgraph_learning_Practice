{
 "cells": [
  {
   "cell_type": "markdown",
   "id": "6c0241d6",
   "metadata": {},
   "source": [
    "# parallel workflow"
   ]
  },
  {
   "cell_type": "code",
   "execution_count": 76,
   "id": "d29978d1",
   "metadata": {},
   "outputs": [],
   "source": [
    "from langgraph.graph import StateGraph,START,END\n",
    "from typing import TypedDict"
   ]
  },
  {
   "cell_type": "code",
   "execution_count": 77,
   "id": "7ac71cb1",
   "metadata": {},
   "outputs": [],
   "source": [
    "class BMState(TypedDict):\n",
    "    balls: int\n",
    "    runs: int\n",
    "    fours: int\n",
    "    sixes: int\n",
    "\n",
    "    sr: float\n",
    "    bpb: float\n",
    "    boundry_percent:float\n",
    "    summary:str\n",
    "\n"
   ]
  },
  {
   "cell_type": "code",
   "execution_count": 78,
   "id": "71708b5e",
   "metadata": {},
   "outputs": [],
   "source": [
    "# code for cal_strike\n",
    "def cal_strike(state:BMState)->BMState:\n",
    "    sr=(state['runs']/state['balls'])*100\n",
    "\n",
    "    return {'sr':sr}"
   ]
  },
  {
   "cell_type": "code",
   "execution_count": 79,
   "id": "f772b035",
   "metadata": {},
   "outputs": [],
   "source": [
    "# code for cal_bpb\n",
    "def cal_bpb(state:BMState)->BMState:\n",
    "    bpb = state['balls']/(state['fours'] + state['sixes'])\n",
    "    return {'bpb':bpb}"
   ]
  },
  {
   "cell_type": "code",
   "execution_count": 80,
   "id": "cc8c387c",
   "metadata": {},
   "outputs": [],
   "source": [
    "# code for cal_bp\n",
    "def cal_bp(state:BMState)->BMState:\n",
    "    boundry_percent = (((state['fours'] * 4) + (state['sixes'] * 6))/state['runs'])*100\n",
    "    return {'boundry_percent':boundry_percent}"
   ]
  },
  {
   "cell_type": "code",
   "execution_count": 81,
   "id": "d8575bf4",
   "metadata": {},
   "outputs": [],
   "source": [
    "# code for summary\n",
    "\n",
    "def summary(state: BMState)->BMState:\n",
    "\n",
    "    summary = f\"\"\"\n",
    "Strike Rate - {state['sr']} \\n\n",
    "Balls per boundary - {state['bpb']} \\n\n",
    "Boundary percent - {state['boundry_percent']}\n",
    "\"\"\"\n",
    "    \n",
    "    return {'summary': summary}"
   ]
  },
  {
   "cell_type": "code",
   "execution_count": 82,
   "id": "e6e4f6e2",
   "metadata": {},
   "outputs": [],
   "source": [
    "graph=StateGraph(BMState)\n",
    "\n",
    "graph.add_node('cal_strike',cal_strike)\n",
    "graph.add_node('cal_bpb',cal_bpb)\n",
    "graph.add_node('cal_bp',cal_bp)\n",
    "graph.add_node('summary',summary)\n",
    "\n",
    "graph.add_edge(START,'cal_strike')\n",
    "graph.add_edge(START,'cal_bpb')\n",
    "graph.add_edge(START,'cal_bp')\n",
    "graph.add_edge('cal_strike','summary')\n",
    "graph.add_edge('cal_bpb','summary')\n",
    "graph.add_edge('cal_bp','summary')\n",
    "\n",
    "graph.add_edge('summary',END)\n",
    "\n",
    "workflow=graph.compile()"
   ]
  },
  {
   "cell_type": "code",
   "execution_count": 83,
   "id": "8602e8c7",
   "metadata": {},
   "outputs": [
    {
     "data": {
      "image/png": "[encoded data removed]",
      "text/plain": [
       "<langgraph.graph.state.CompiledStateGraph object at 0x0000021DF852C690>"
      ]
     },
     "execution_count": 83,
     "metadata": {},
     "output_type": "execute_result"
    }
   ],
   "source": [
    "workflow"
   ]
  },
  {
   "cell_type": "code",
   "execution_count": 84,
   "id": "0b365070",
   "metadata": {},
   "outputs": [],
   "source": [
    "result=workflow.invoke(\n",
    "    {\n",
    "    'runs': 100,\n",
    "    'balls': 50,\n",
    "    'fours': 6,\n",
    "    'sixes': 4\n",
    "}\n",
    ")"
   ]
  },
  {
   "cell_type": "code",
   "execution_count": 85,
   "id": "31e5e445",
   "metadata": {},
   "outputs": [
    {
     "data": {
      "text/plain": [
       "{'balls': 50,\n",
       " 'runs': 100,\n",
       " 'fours': 6,\n",
       " 'sixes': 4,\n",
       " 'sr': 200.0,\n",
       " 'bpb': 5.0,\n",
       " 'boundry_percent': 48.0,\n",
       " 'summary': '\\nStrike Rate - 200.0 \\n\\nBalls per boundary - 5.0 \\n\\nBoundary percent - 48.0\\n'}"
      ]
     },
     "execution_count": 85,
     "metadata": {},
     "output_type": "execute_result"
    }
   ],
   "source": [
    "result"
   ]
  },
  {
   "cell_type": "code",
   "execution_count": null,
   "id": "201bcdef",
   "metadata": {},
   "outputs": [],
   "source": []
  }
 ],
 "metadata": {
  "kernelspec": {
   "display_name": "langgraph_env",
   "language": "python",
   "name": "python3"
  },
  "language_info": {
   "codemirror_mode": {
    "name": "ipython",
    "version": 3
   },
   "file_extension": ".py",
   "mimetype": "text/x-python",
   "name": "python",
   "nbconvert_exporter": "python",
   "pygments_lexer": "ipython3",
   "version": "3.13.2"
  }
 },
 "nbformat": 4,
 "nbformat_minor": 5
}
